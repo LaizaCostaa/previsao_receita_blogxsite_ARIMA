{
  "nbformat": 4,
  "nbformat_minor": 0,
  "metadata": {
    "colab": {
      "provenance": [],
      "authorship_tag": "ABX9TyN3NFiH1fLr5RAGhKcVgt0T",
      "include_colab_link": true
    },
    "kernelspec": {
      "name": "python3",
      "display_name": "Python 3"
    },
    "language_info": {
      "name": "python"
    }
  },
  "cells": [
    {
      "cell_type": "markdown",
      "metadata": {
        "id": "view-in-github",
        "colab_type": "text"
      },
      "source": [
        "<a href=\"https://colab.research.google.com/github/LaizaCostaa/previsao_receita_blogxsite_ARIMA/blob/main/previsao_receita_blogxsite_ARIMA.ipynb\" target=\"_parent\"><img src=\"https://colab.research.google.com/assets/colab-badge.svg\" alt=\"Open In Colab\"/></a>"
      ]
    },
    {
      "cell_type": "markdown",
      "source": [
        "\n",
        "**ANÁLISE DA RECEITA BLOGXSITE DE UMA EMPRESA DE IMÓVEIS (PARTE II)**\n",
        "\n",
        "**RESUMO:**\n",
        "\n",
        "Este projeto foi desenvolvido para auxiliar uma empresa de imóveis nas tomadas de decisões envolvendo o blog da marca. O objetivo dessa análise é entender de que forma esse novo canal influencia na receita da empresa.\n",
        "\n",
        "**O QUE FAREMOS AQUI?**\n",
        "\n",
        "Uma análise preditiva da receita do blog e do site para auxiliar na tomada de decisão de negócios, respondendo se vale ou não a pena manter o blog da empresa ativo.\n",
        "\n",
        "\n",
        "**ONDE ENCONTRAR A ANÁLISE EXPLORATÓRIA?**\n",
        "\n",
        "Decidi dividir em duas partes porque queria fazer uma análise exploratória mais detalhada e não deixar o código tão poluído com análise e aplicação do modelo ao mesmo tempo.\n",
        "\n",
        "Código completo da análise exploratória: https://github.com/LaizaCostaa/Case-An-lise-de-faturamento-Blog-x-Site\n",
        "\n",
        "Artigo da análise exploratória: https://medium.com/@laizamare/an%C3%A1lise-de-s%C3%A9rie-temporal-o-impacto-de-um-canal-de-vendas-nos-neg%C3%B3cios-17215fe96cfe\n",
        "\n",
        "\n",
        "\n"
      ],
      "metadata": {
        "id": "Nx_3TRryvYMA"
      }
    },
    {
      "cell_type": "code",
      "execution_count": 52,
      "metadata": {
        "id": "UAOYVxdvgDcn"
      },
      "outputs": [],
      "source": [
        "import pandas as pd\n",
        "import matplotlib.pyplot as plt\n",
        "import numpy as np\n",
        "from statsmodels.tsa.seasonal import seasonal_decompose\n",
        "from statsmodels.tsa.stattools import adfuller\n",
        "from statsmodels.tsa.arima_model import ARIMA\n",
        "import random\n",
        "from sklearn.metrics import mean_absolute_error as mae\n",
        "import warnings\n",
        "warnings.filterwarnings(\"ignore\")\n",
        "%matplotlib inline"
      ]
    },
    {
      "cell_type": "code",
      "source": [
        "df = pd.read_csv(\"df.csv\")\n",
        "df"
      ],
      "metadata": {
        "colab": {
          "base_uri": "https://localhost:8080/",
          "height": 424
        },
        "id": "JaFssYAqhcEk",
        "outputId": "de2c60b6-00d7-4504-f362-15c4a9492a42"
      },
      "execution_count": 53,
      "outputs": [
        {
          "output_type": "execute_result",
          "data": {
            "text/plain": [
              "           data  receita  transacoes_blog  transacoes_site  usuarios_blog  \\\n",
              "0    2019-02-14  1340918                0            12798              0   \n",
              "1    2019-03-01  1689589                0            15577              0   \n",
              "2    2019-03-06  1688251                0            16212              0   \n",
              "3    2019-03-07  1877771                0            17793              0   \n",
              "4    2019-03-08  2453247                0            24376              0   \n",
              "..          ...      ...              ...              ...            ...   \n",
              "288  2020-09-24  3648743             2379            22807          11700   \n",
              "289  2020-09-25  3320034             1996            21578          10082   \n",
              "290  2020-09-26  2509687             1580            15320           9292   \n",
              "291  2020-09-27  2182679             1838            14135          10052   \n",
              "292  2020-09-28  3496475             2684            21724          11224   \n",
              "\n",
              "     usuarios_site     ano_mes  receita_site  receita_blog  \\\n",
              "0            96579  2019-02-01  9.435606e+05  0.000000e+00   \n",
              "1            97690  2019-03-01  1.148448e+06  0.000000e+00   \n",
              "2           105136  2019-03-01  1.195265e+06  0.000000e+00   \n",
              "3           108032  2019-03-01  1.311828e+06  0.000000e+00   \n",
              "4           109411  2019-03-01  1.797174e+06  0.000000e+00   \n",
              "..             ...         ...           ...           ...   \n",
              "288         130853  2020-09-01  1.681496e+06  1.967247e+06   \n",
              "289         112163  2020-09-01  1.590885e+06  1.729149e+06   \n",
              "290          96178  2020-09-01  1.129501e+06  1.380186e+06   \n",
              "291         103494  2020-09-01  1.042134e+06  1.140545e+06   \n",
              "292         127524  2020-09-01  1.601650e+06  1.894825e+06   \n",
              "\n",
              "     taxa_conversao_site  taxa_conversao_blog  \n",
              "0               0.132513                  NaN  \n",
              "1               0.159453                  NaN  \n",
              "2               0.154200                  NaN  \n",
              "3               0.164701                  NaN  \n",
              "4               0.222793                  NaN  \n",
              "..                   ...                  ...  \n",
              "288             0.174295             0.203333  \n",
              "289             0.192381             0.197977  \n",
              "290             0.159288             0.170039  \n",
              "291             0.136578             0.182849  \n",
              "292             0.170352             0.239130  \n",
              "\n",
              "[293 rows x 11 columns]"
            ],
            "text/html": [
              "\n",
              "  <div id=\"df-970b8ba2-c31b-4efe-9139-03632515d3a3\" class=\"colab-df-container\">\n",
              "    <div>\n",
              "<style scoped>\n",
              "    .dataframe tbody tr th:only-of-type {\n",
              "        vertical-align: middle;\n",
              "    }\n",
              "\n",
              "    .dataframe tbody tr th {\n",
              "        vertical-align: top;\n",
              "    }\n",
              "\n",
              "    .dataframe thead th {\n",
              "        text-align: right;\n",
              "    }\n",
              "</style>\n",
              "<table border=\"1\" class=\"dataframe\">\n",
              "  <thead>\n",
              "    <tr style=\"text-align: right;\">\n",
              "      <th></th>\n",
              "      <th>data</th>\n",
              "      <th>receita</th>\n",
              "      <th>transacoes_blog</th>\n",
              "      <th>transacoes_site</th>\n",
              "      <th>usuarios_blog</th>\n",
              "      <th>usuarios_site</th>\n",
              "      <th>ano_mes</th>\n",
              "      <th>receita_site</th>\n",
              "      <th>receita_blog</th>\n",
              "      <th>taxa_conversao_site</th>\n",
              "      <th>taxa_conversao_blog</th>\n",
              "    </tr>\n",
              "  </thead>\n",
              "  <tbody>\n",
              "    <tr>\n",
              "      <th>0</th>\n",
              "      <td>2019-02-14</td>\n",
              "      <td>1340918</td>\n",
              "      <td>0</td>\n",
              "      <td>12798</td>\n",
              "      <td>0</td>\n",
              "      <td>96579</td>\n",
              "      <td>2019-02-01</td>\n",
              "      <td>9.435606e+05</td>\n",
              "      <td>0.000000e+00</td>\n",
              "      <td>0.132513</td>\n",
              "      <td>NaN</td>\n",
              "    </tr>\n",
              "    <tr>\n",
              "      <th>1</th>\n",
              "      <td>2019-03-01</td>\n",
              "      <td>1689589</td>\n",
              "      <td>0</td>\n",
              "      <td>15577</td>\n",
              "      <td>0</td>\n",
              "      <td>97690</td>\n",
              "      <td>2019-03-01</td>\n",
              "      <td>1.148448e+06</td>\n",
              "      <td>0.000000e+00</td>\n",
              "      <td>0.159453</td>\n",
              "      <td>NaN</td>\n",
              "    </tr>\n",
              "    <tr>\n",
              "      <th>2</th>\n",
              "      <td>2019-03-06</td>\n",
              "      <td>1688251</td>\n",
              "      <td>0</td>\n",
              "      <td>16212</td>\n",
              "      <td>0</td>\n",
              "      <td>105136</td>\n",
              "      <td>2019-03-01</td>\n",
              "      <td>1.195265e+06</td>\n",
              "      <td>0.000000e+00</td>\n",
              "      <td>0.154200</td>\n",
              "      <td>NaN</td>\n",
              "    </tr>\n",
              "    <tr>\n",
              "      <th>3</th>\n",
              "      <td>2019-03-07</td>\n",
              "      <td>1877771</td>\n",
              "      <td>0</td>\n",
              "      <td>17793</td>\n",
              "      <td>0</td>\n",
              "      <td>108032</td>\n",
              "      <td>2019-03-01</td>\n",
              "      <td>1.311828e+06</td>\n",
              "      <td>0.000000e+00</td>\n",
              "      <td>0.164701</td>\n",
              "      <td>NaN</td>\n",
              "    </tr>\n",
              "    <tr>\n",
              "      <th>4</th>\n",
              "      <td>2019-03-08</td>\n",
              "      <td>2453247</td>\n",
              "      <td>0</td>\n",
              "      <td>24376</td>\n",
              "      <td>0</td>\n",
              "      <td>109411</td>\n",
              "      <td>2019-03-01</td>\n",
              "      <td>1.797174e+06</td>\n",
              "      <td>0.000000e+00</td>\n",
              "      <td>0.222793</td>\n",
              "      <td>NaN</td>\n",
              "    </tr>\n",
              "    <tr>\n",
              "      <th>...</th>\n",
              "      <td>...</td>\n",
              "      <td>...</td>\n",
              "      <td>...</td>\n",
              "      <td>...</td>\n",
              "      <td>...</td>\n",
              "      <td>...</td>\n",
              "      <td>...</td>\n",
              "      <td>...</td>\n",
              "      <td>...</td>\n",
              "      <td>...</td>\n",
              "      <td>...</td>\n",
              "    </tr>\n",
              "    <tr>\n",
              "      <th>288</th>\n",
              "      <td>2020-09-24</td>\n",
              "      <td>3648743</td>\n",
              "      <td>2379</td>\n",
              "      <td>22807</td>\n",
              "      <td>11700</td>\n",
              "      <td>130853</td>\n",
              "      <td>2020-09-01</td>\n",
              "      <td>1.681496e+06</td>\n",
              "      <td>1.967247e+06</td>\n",
              "      <td>0.174295</td>\n",
              "      <td>0.203333</td>\n",
              "    </tr>\n",
              "    <tr>\n",
              "      <th>289</th>\n",
              "      <td>2020-09-25</td>\n",
              "      <td>3320034</td>\n",
              "      <td>1996</td>\n",
              "      <td>21578</td>\n",
              "      <td>10082</td>\n",
              "      <td>112163</td>\n",
              "      <td>2020-09-01</td>\n",
              "      <td>1.590885e+06</td>\n",
              "      <td>1.729149e+06</td>\n",
              "      <td>0.192381</td>\n",
              "      <td>0.197977</td>\n",
              "    </tr>\n",
              "    <tr>\n",
              "      <th>290</th>\n",
              "      <td>2020-09-26</td>\n",
              "      <td>2509687</td>\n",
              "      <td>1580</td>\n",
              "      <td>15320</td>\n",
              "      <td>9292</td>\n",
              "      <td>96178</td>\n",
              "      <td>2020-09-01</td>\n",
              "      <td>1.129501e+06</td>\n",
              "      <td>1.380186e+06</td>\n",
              "      <td>0.159288</td>\n",
              "      <td>0.170039</td>\n",
              "    </tr>\n",
              "    <tr>\n",
              "      <th>291</th>\n",
              "      <td>2020-09-27</td>\n",
              "      <td>2182679</td>\n",
              "      <td>1838</td>\n",
              "      <td>14135</td>\n",
              "      <td>10052</td>\n",
              "      <td>103494</td>\n",
              "      <td>2020-09-01</td>\n",
              "      <td>1.042134e+06</td>\n",
              "      <td>1.140545e+06</td>\n",
              "      <td>0.136578</td>\n",
              "      <td>0.182849</td>\n",
              "    </tr>\n",
              "    <tr>\n",
              "      <th>292</th>\n",
              "      <td>2020-09-28</td>\n",
              "      <td>3496475</td>\n",
              "      <td>2684</td>\n",
              "      <td>21724</td>\n",
              "      <td>11224</td>\n",
              "      <td>127524</td>\n",
              "      <td>2020-09-01</td>\n",
              "      <td>1.601650e+06</td>\n",
              "      <td>1.894825e+06</td>\n",
              "      <td>0.170352</td>\n",
              "      <td>0.239130</td>\n",
              "    </tr>\n",
              "  </tbody>\n",
              "</table>\n",
              "<p>293 rows × 11 columns</p>\n",
              "</div>\n",
              "    <div class=\"colab-df-buttons\">\n",
              "\n",
              "  <div class=\"colab-df-container\">\n",
              "    <button class=\"colab-df-convert\" onclick=\"convertToInteractive('df-970b8ba2-c31b-4efe-9139-03632515d3a3')\"\n",
              "            title=\"Convert this dataframe to an interactive table.\"\n",
              "            style=\"display:none;\">\n",
              "\n",
              "  <svg xmlns=\"http://www.w3.org/2000/svg\" height=\"24px\" viewBox=\"0 -960 960 960\">\n",
              "    <path d=\"M120-120v-720h720v720H120Zm60-500h600v-160H180v160Zm220 220h160v-160H400v160Zm0 220h160v-160H400v160ZM180-400h160v-160H180v160Zm440 0h160v-160H620v160ZM180-180h160v-160H180v160Zm440 0h160v-160H620v160Z\"/>\n",
              "  </svg>\n",
              "    </button>\n",
              "\n",
              "  <style>\n",
              "    .colab-df-container {\n",
              "      display:flex;\n",
              "      gap: 12px;\n",
              "    }\n",
              "\n",
              "    .colab-df-convert {\n",
              "      background-color: #E8F0FE;\n",
              "      border: none;\n",
              "      border-radius: 50%;\n",
              "      cursor: pointer;\n",
              "      display: none;\n",
              "      fill: #1967D2;\n",
              "      height: 32px;\n",
              "      padding: 0 0 0 0;\n",
              "      width: 32px;\n",
              "    }\n",
              "\n",
              "    .colab-df-convert:hover {\n",
              "      background-color: #E2EBFA;\n",
              "      box-shadow: 0px 1px 2px rgba(60, 64, 67, 0.3), 0px 1px 3px 1px rgba(60, 64, 67, 0.15);\n",
              "      fill: #174EA6;\n",
              "    }\n",
              "\n",
              "    .colab-df-buttons div {\n",
              "      margin-bottom: 4px;\n",
              "    }\n",
              "\n",
              "    [theme=dark] .colab-df-convert {\n",
              "      background-color: #3B4455;\n",
              "      fill: #D2E3FC;\n",
              "    }\n",
              "\n",
              "    [theme=dark] .colab-df-convert:hover {\n",
              "      background-color: #434B5C;\n",
              "      box-shadow: 0px 1px 3px 1px rgba(0, 0, 0, 0.15);\n",
              "      filter: drop-shadow(0px 1px 2px rgba(0, 0, 0, 0.3));\n",
              "      fill: #FFFFFF;\n",
              "    }\n",
              "  </style>\n",
              "\n",
              "    <script>\n",
              "      const buttonEl =\n",
              "        document.querySelector('#df-970b8ba2-c31b-4efe-9139-03632515d3a3 button.colab-df-convert');\n",
              "      buttonEl.style.display =\n",
              "        google.colab.kernel.accessAllowed ? 'block' : 'none';\n",
              "\n",
              "      async function convertToInteractive(key) {\n",
              "        const element = document.querySelector('#df-970b8ba2-c31b-4efe-9139-03632515d3a3');\n",
              "        const dataTable =\n",
              "          await google.colab.kernel.invokeFunction('convertToInteractive',\n",
              "                                                    [key], {});\n",
              "        if (!dataTable) return;\n",
              "\n",
              "        const docLinkHtml = 'Like what you see? Visit the ' +\n",
              "          '<a target=\"_blank\" href=https://colab.research.google.com/notebooks/data_table.ipynb>data table notebook</a>'\n",
              "          + ' to learn more about interactive tables.';\n",
              "        element.innerHTML = '';\n",
              "        dataTable['output_type'] = 'display_data';\n",
              "        await google.colab.output.renderOutput(dataTable, element);\n",
              "        const docLink = document.createElement('div');\n",
              "        docLink.innerHTML = docLinkHtml;\n",
              "        element.appendChild(docLink);\n",
              "      }\n",
              "    </script>\n",
              "  </div>\n",
              "\n",
              "\n",
              "<div id=\"df-97303bd6-7391-43e7-b7de-af54e6d5c477\">\n",
              "  <button class=\"colab-df-quickchart\" onclick=\"quickchart('df-97303bd6-7391-43e7-b7de-af54e6d5c477')\"\n",
              "            title=\"Suggest charts.\"\n",
              "            style=\"display:none;\">\n",
              "\n",
              "<svg xmlns=\"http://www.w3.org/2000/svg\" height=\"24px\"viewBox=\"0 0 24 24\"\n",
              "     width=\"24px\">\n",
              "    <g>\n",
              "        <path d=\"M19 3H5c-1.1 0-2 .9-2 2v14c0 1.1.9 2 2 2h14c1.1 0 2-.9 2-2V5c0-1.1-.9-2-2-2zM9 17H7v-7h2v7zm4 0h-2V7h2v10zm4 0h-2v-4h2v4z\"/>\n",
              "    </g>\n",
              "</svg>\n",
              "  </button>\n",
              "\n",
              "<style>\n",
              "  .colab-df-quickchart {\n",
              "      --bg-color: #E8F0FE;\n",
              "      --fill-color: #1967D2;\n",
              "      --hover-bg-color: #E2EBFA;\n",
              "      --hover-fill-color: #174EA6;\n",
              "      --disabled-fill-color: #AAA;\n",
              "      --disabled-bg-color: #DDD;\n",
              "  }\n",
              "\n",
              "  [theme=dark] .colab-df-quickchart {\n",
              "      --bg-color: #3B4455;\n",
              "      --fill-color: #D2E3FC;\n",
              "      --hover-bg-color: #434B5C;\n",
              "      --hover-fill-color: #FFFFFF;\n",
              "      --disabled-bg-color: #3B4455;\n",
              "      --disabled-fill-color: #666;\n",
              "  }\n",
              "\n",
              "  .colab-df-quickchart {\n",
              "    background-color: var(--bg-color);\n",
              "    border: none;\n",
              "    border-radius: 50%;\n",
              "    cursor: pointer;\n",
              "    display: none;\n",
              "    fill: var(--fill-color);\n",
              "    height: 32px;\n",
              "    padding: 0;\n",
              "    width: 32px;\n",
              "  }\n",
              "\n",
              "  .colab-df-quickchart:hover {\n",
              "    background-color: var(--hover-bg-color);\n",
              "    box-shadow: 0 1px 2px rgba(60, 64, 67, 0.3), 0 1px 3px 1px rgba(60, 64, 67, 0.15);\n",
              "    fill: var(--button-hover-fill-color);\n",
              "  }\n",
              "\n",
              "  .colab-df-quickchart-complete:disabled,\n",
              "  .colab-df-quickchart-complete:disabled:hover {\n",
              "    background-color: var(--disabled-bg-color);\n",
              "    fill: var(--disabled-fill-color);\n",
              "    box-shadow: none;\n",
              "  }\n",
              "\n",
              "  .colab-df-spinner {\n",
              "    border: 2px solid var(--fill-color);\n",
              "    border-color: transparent;\n",
              "    border-bottom-color: var(--fill-color);\n",
              "    animation:\n",
              "      spin 1s steps(1) infinite;\n",
              "  }\n",
              "\n",
              "  @keyframes spin {\n",
              "    0% {\n",
              "      border-color: transparent;\n",
              "      border-bottom-color: var(--fill-color);\n",
              "      border-left-color: var(--fill-color);\n",
              "    }\n",
              "    20% {\n",
              "      border-color: transparent;\n",
              "      border-left-color: var(--fill-color);\n",
              "      border-top-color: var(--fill-color);\n",
              "    }\n",
              "    30% {\n",
              "      border-color: transparent;\n",
              "      border-left-color: var(--fill-color);\n",
              "      border-top-color: var(--fill-color);\n",
              "      border-right-color: var(--fill-color);\n",
              "    }\n",
              "    40% {\n",
              "      border-color: transparent;\n",
              "      border-right-color: var(--fill-color);\n",
              "      border-top-color: var(--fill-color);\n",
              "    }\n",
              "    60% {\n",
              "      border-color: transparent;\n",
              "      border-right-color: var(--fill-color);\n",
              "    }\n",
              "    80% {\n",
              "      border-color: transparent;\n",
              "      border-right-color: var(--fill-color);\n",
              "      border-bottom-color: var(--fill-color);\n",
              "    }\n",
              "    90% {\n",
              "      border-color: transparent;\n",
              "      border-bottom-color: var(--fill-color);\n",
              "    }\n",
              "  }\n",
              "</style>\n",
              "\n",
              "  <script>\n",
              "    async function quickchart(key) {\n",
              "      const quickchartButtonEl =\n",
              "        document.querySelector('#' + key + ' button');\n",
              "      quickchartButtonEl.disabled = true;  // To prevent multiple clicks.\n",
              "      quickchartButtonEl.classList.add('colab-df-spinner');\n",
              "      try {\n",
              "        const charts = await google.colab.kernel.invokeFunction(\n",
              "            'suggestCharts', [key], {});\n",
              "      } catch (error) {\n",
              "        console.error('Error during call to suggestCharts:', error);\n",
              "      }\n",
              "      quickchartButtonEl.classList.remove('colab-df-spinner');\n",
              "      quickchartButtonEl.classList.add('colab-df-quickchart-complete');\n",
              "    }\n",
              "    (() => {\n",
              "      let quickchartButtonEl =\n",
              "        document.querySelector('#df-97303bd6-7391-43e7-b7de-af54e6d5c477 button');\n",
              "      quickchartButtonEl.style.display =\n",
              "        google.colab.kernel.accessAllowed ? 'block' : 'none';\n",
              "    })();\n",
              "  </script>\n",
              "</div>\n",
              "    </div>\n",
              "  </div>\n"
            ]
          },
          "metadata": {},
          "execution_count": 53
        }
      ]
    },
    {
      "cell_type": "markdown",
      "source": [
        "# **SEPARANDO OS DATAFRAMES**"
      ],
      "metadata": {
        "id": "HG4bir8SZFDH"
      }
    },
    {
      "cell_type": "code",
      "source": [
        "df_receita_site = df[['data', 'receita_site']].copy()\n",
        "df_receita_site"
      ],
      "metadata": {
        "colab": {
          "base_uri": "https://localhost:8080/",
          "height": 424
        },
        "id": "Z7_gv_Jbql3D",
        "outputId": "f7617257-e01b-4066-a049-f1431045013a"
      },
      "execution_count": 54,
      "outputs": [
        {
          "output_type": "execute_result",
          "data": {
            "text/plain": [
              "           data  receita_site\n",
              "0    2019-02-14  9.435606e+05\n",
              "1    2019-03-01  1.148448e+06\n",
              "2    2019-03-06  1.195265e+06\n",
              "3    2019-03-07  1.311828e+06\n",
              "4    2019-03-08  1.797174e+06\n",
              "..          ...           ...\n",
              "288  2020-09-24  1.681496e+06\n",
              "289  2020-09-25  1.590885e+06\n",
              "290  2020-09-26  1.129501e+06\n",
              "291  2020-09-27  1.042134e+06\n",
              "292  2020-09-28  1.601650e+06\n",
              "\n",
              "[293 rows x 2 columns]"
            ],
            "text/html": [
              "\n",
              "  <div id=\"df-565ce029-d59d-45a1-8699-5a1cef89dbae\" class=\"colab-df-container\">\n",
              "    <div>\n",
              "<style scoped>\n",
              "    .dataframe tbody tr th:only-of-type {\n",
              "        vertical-align: middle;\n",
              "    }\n",
              "\n",
              "    .dataframe tbody tr th {\n",
              "        vertical-align: top;\n",
              "    }\n",
              "\n",
              "    .dataframe thead th {\n",
              "        text-align: right;\n",
              "    }\n",
              "</style>\n",
              "<table border=\"1\" class=\"dataframe\">\n",
              "  <thead>\n",
              "    <tr style=\"text-align: right;\">\n",
              "      <th></th>\n",
              "      <th>data</th>\n",
              "      <th>receita_site</th>\n",
              "    </tr>\n",
              "  </thead>\n",
              "  <tbody>\n",
              "    <tr>\n",
              "      <th>0</th>\n",
              "      <td>2019-02-14</td>\n",
              "      <td>9.435606e+05</td>\n",
              "    </tr>\n",
              "    <tr>\n",
              "      <th>1</th>\n",
              "      <td>2019-03-01</td>\n",
              "      <td>1.148448e+06</td>\n",
              "    </tr>\n",
              "    <tr>\n",
              "      <th>2</th>\n",
              "      <td>2019-03-06</td>\n",
              "      <td>1.195265e+06</td>\n",
              "    </tr>\n",
              "    <tr>\n",
              "      <th>3</th>\n",
              "      <td>2019-03-07</td>\n",
              "      <td>1.311828e+06</td>\n",
              "    </tr>\n",
              "    <tr>\n",
              "      <th>4</th>\n",
              "      <td>2019-03-08</td>\n",
              "      <td>1.797174e+06</td>\n",
              "    </tr>\n",
              "    <tr>\n",
              "      <th>...</th>\n",
              "      <td>...</td>\n",
              "      <td>...</td>\n",
              "    </tr>\n",
              "    <tr>\n",
              "      <th>288</th>\n",
              "      <td>2020-09-24</td>\n",
              "      <td>1.681496e+06</td>\n",
              "    </tr>\n",
              "    <tr>\n",
              "      <th>289</th>\n",
              "      <td>2020-09-25</td>\n",
              "      <td>1.590885e+06</td>\n",
              "    </tr>\n",
              "    <tr>\n",
              "      <th>290</th>\n",
              "      <td>2020-09-26</td>\n",
              "      <td>1.129501e+06</td>\n",
              "    </tr>\n",
              "    <tr>\n",
              "      <th>291</th>\n",
              "      <td>2020-09-27</td>\n",
              "      <td>1.042134e+06</td>\n",
              "    </tr>\n",
              "    <tr>\n",
              "      <th>292</th>\n",
              "      <td>2020-09-28</td>\n",
              "      <td>1.601650e+06</td>\n",
              "    </tr>\n",
              "  </tbody>\n",
              "</table>\n",
              "<p>293 rows × 2 columns</p>\n",
              "</div>\n",
              "    <div class=\"colab-df-buttons\">\n",
              "\n",
              "  <div class=\"colab-df-container\">\n",
              "    <button class=\"colab-df-convert\" onclick=\"convertToInteractive('df-565ce029-d59d-45a1-8699-5a1cef89dbae')\"\n",
              "            title=\"Convert this dataframe to an interactive table.\"\n",
              "            style=\"display:none;\">\n",
              "\n",
              "  <svg xmlns=\"http://www.w3.org/2000/svg\" height=\"24px\" viewBox=\"0 -960 960 960\">\n",
              "    <path d=\"M120-120v-720h720v720H120Zm60-500h600v-160H180v160Zm220 220h160v-160H400v160Zm0 220h160v-160H400v160ZM180-400h160v-160H180v160Zm440 0h160v-160H620v160ZM180-180h160v-160H180v160Zm440 0h160v-160H620v160Z\"/>\n",
              "  </svg>\n",
              "    </button>\n",
              "\n",
              "  <style>\n",
              "    .colab-df-container {\n",
              "      display:flex;\n",
              "      gap: 12px;\n",
              "    }\n",
              "\n",
              "    .colab-df-convert {\n",
              "      background-color: #E8F0FE;\n",
              "      border: none;\n",
              "      border-radius: 50%;\n",
              "      cursor: pointer;\n",
              "      display: none;\n",
              "      fill: #1967D2;\n",
              "      height: 32px;\n",
              "      padding: 0 0 0 0;\n",
              "      width: 32px;\n",
              "    }\n",
              "\n",
              "    .colab-df-convert:hover {\n",
              "      background-color: #E2EBFA;\n",
              "      box-shadow: 0px 1px 2px rgba(60, 64, 67, 0.3), 0px 1px 3px 1px rgba(60, 64, 67, 0.15);\n",
              "      fill: #174EA6;\n",
              "    }\n",
              "\n",
              "    .colab-df-buttons div {\n",
              "      margin-bottom: 4px;\n",
              "    }\n",
              "\n",
              "    [theme=dark] .colab-df-convert {\n",
              "      background-color: #3B4455;\n",
              "      fill: #D2E3FC;\n",
              "    }\n",
              "\n",
              "    [theme=dark] .colab-df-convert:hover {\n",
              "      background-color: #434B5C;\n",
              "      box-shadow: 0px 1px 3px 1px rgba(0, 0, 0, 0.15);\n",
              "      filter: drop-shadow(0px 1px 2px rgba(0, 0, 0, 0.3));\n",
              "      fill: #FFFFFF;\n",
              "    }\n",
              "  </style>\n",
              "\n",
              "    <script>\n",
              "      const buttonEl =\n",
              "        document.querySelector('#df-565ce029-d59d-45a1-8699-5a1cef89dbae button.colab-df-convert');\n",
              "      buttonEl.style.display =\n",
              "        google.colab.kernel.accessAllowed ? 'block' : 'none';\n",
              "\n",
              "      async function convertToInteractive(key) {\n",
              "        const element = document.querySelector('#df-565ce029-d59d-45a1-8699-5a1cef89dbae');\n",
              "        const dataTable =\n",
              "          await google.colab.kernel.invokeFunction('convertToInteractive',\n",
              "                                                    [key], {});\n",
              "        if (!dataTable) return;\n",
              "\n",
              "        const docLinkHtml = 'Like what you see? Visit the ' +\n",
              "          '<a target=\"_blank\" href=https://colab.research.google.com/notebooks/data_table.ipynb>data table notebook</a>'\n",
              "          + ' to learn more about interactive tables.';\n",
              "        element.innerHTML = '';\n",
              "        dataTable['output_type'] = 'display_data';\n",
              "        await google.colab.output.renderOutput(dataTable, element);\n",
              "        const docLink = document.createElement('div');\n",
              "        docLink.innerHTML = docLinkHtml;\n",
              "        element.appendChild(docLink);\n",
              "      }\n",
              "    </script>\n",
              "  </div>\n",
              "\n",
              "\n",
              "<div id=\"df-5cac6b3a-4622-4b11-8a38-6fd248716b95\">\n",
              "  <button class=\"colab-df-quickchart\" onclick=\"quickchart('df-5cac6b3a-4622-4b11-8a38-6fd248716b95')\"\n",
              "            title=\"Suggest charts.\"\n",
              "            style=\"display:none;\">\n",
              "\n",
              "<svg xmlns=\"http://www.w3.org/2000/svg\" height=\"24px\"viewBox=\"0 0 24 24\"\n",
              "     width=\"24px\">\n",
              "    <g>\n",
              "        <path d=\"M19 3H5c-1.1 0-2 .9-2 2v14c0 1.1.9 2 2 2h14c1.1 0 2-.9 2-2V5c0-1.1-.9-2-2-2zM9 17H7v-7h2v7zm4 0h-2V7h2v10zm4 0h-2v-4h2v4z\"/>\n",
              "    </g>\n",
              "</svg>\n",
              "  </button>\n",
              "\n",
              "<style>\n",
              "  .colab-df-quickchart {\n",
              "      --bg-color: #E8F0FE;\n",
              "      --fill-color: #1967D2;\n",
              "      --hover-bg-color: #E2EBFA;\n",
              "      --hover-fill-color: #174EA6;\n",
              "      --disabled-fill-color: #AAA;\n",
              "      --disabled-bg-color: #DDD;\n",
              "  }\n",
              "\n",
              "  [theme=dark] .colab-df-quickchart {\n",
              "      --bg-color: #3B4455;\n",
              "      --fill-color: #D2E3FC;\n",
              "      --hover-bg-color: #434B5C;\n",
              "      --hover-fill-color: #FFFFFF;\n",
              "      --disabled-bg-color: #3B4455;\n",
              "      --disabled-fill-color: #666;\n",
              "  }\n",
              "\n",
              "  .colab-df-quickchart {\n",
              "    background-color: var(--bg-color);\n",
              "    border: none;\n",
              "    border-radius: 50%;\n",
              "    cursor: pointer;\n",
              "    display: none;\n",
              "    fill: var(--fill-color);\n",
              "    height: 32px;\n",
              "    padding: 0;\n",
              "    width: 32px;\n",
              "  }\n",
              "\n",
              "  .colab-df-quickchart:hover {\n",
              "    background-color: var(--hover-bg-color);\n",
              "    box-shadow: 0 1px 2px rgba(60, 64, 67, 0.3), 0 1px 3px 1px rgba(60, 64, 67, 0.15);\n",
              "    fill: var(--button-hover-fill-color);\n",
              "  }\n",
              "\n",
              "  .colab-df-quickchart-complete:disabled,\n",
              "  .colab-df-quickchart-complete:disabled:hover {\n",
              "    background-color: var(--disabled-bg-color);\n",
              "    fill: var(--disabled-fill-color);\n",
              "    box-shadow: none;\n",
              "  }\n",
              "\n",
              "  .colab-df-spinner {\n",
              "    border: 2px solid var(--fill-color);\n",
              "    border-color: transparent;\n",
              "    border-bottom-color: var(--fill-color);\n",
              "    animation:\n",
              "      spin 1s steps(1) infinite;\n",
              "  }\n",
              "\n",
              "  @keyframes spin {\n",
              "    0% {\n",
              "      border-color: transparent;\n",
              "      border-bottom-color: var(--fill-color);\n",
              "      border-left-color: var(--fill-color);\n",
              "    }\n",
              "    20% {\n",
              "      border-color: transparent;\n",
              "      border-left-color: var(--fill-color);\n",
              "      border-top-color: var(--fill-color);\n",
              "    }\n",
              "    30% {\n",
              "      border-color: transparent;\n",
              "      border-left-color: var(--fill-color);\n",
              "      border-top-color: var(--fill-color);\n",
              "      border-right-color: var(--fill-color);\n",
              "    }\n",
              "    40% {\n",
              "      border-color: transparent;\n",
              "      border-right-color: var(--fill-color);\n",
              "      border-top-color: var(--fill-color);\n",
              "    }\n",
              "    60% {\n",
              "      border-color: transparent;\n",
              "      border-right-color: var(--fill-color);\n",
              "    }\n",
              "    80% {\n",
              "      border-color: transparent;\n",
              "      border-right-color: var(--fill-color);\n",
              "      border-bottom-color: var(--fill-color);\n",
              "    }\n",
              "    90% {\n",
              "      border-color: transparent;\n",
              "      border-bottom-color: var(--fill-color);\n",
              "    }\n",
              "  }\n",
              "</style>\n",
              "\n",
              "  <script>\n",
              "    async function quickchart(key) {\n",
              "      const quickchartButtonEl =\n",
              "        document.querySelector('#' + key + ' button');\n",
              "      quickchartButtonEl.disabled = true;  // To prevent multiple clicks.\n",
              "      quickchartButtonEl.classList.add('colab-df-spinner');\n",
              "      try {\n",
              "        const charts = await google.colab.kernel.invokeFunction(\n",
              "            'suggestCharts', [key], {});\n",
              "      } catch (error) {\n",
              "        console.error('Error during call to suggestCharts:', error);\n",
              "      }\n",
              "      quickchartButtonEl.classList.remove('colab-df-spinner');\n",
              "      quickchartButtonEl.classList.add('colab-df-quickchart-complete');\n",
              "    }\n",
              "    (() => {\n",
              "      let quickchartButtonEl =\n",
              "        document.querySelector('#df-5cac6b3a-4622-4b11-8a38-6fd248716b95 button');\n",
              "      quickchartButtonEl.style.display =\n",
              "        google.colab.kernel.accessAllowed ? 'block' : 'none';\n",
              "    })();\n",
              "  </script>\n",
              "</div>\n",
              "    </div>\n",
              "  </div>\n"
            ]
          },
          "metadata": {},
          "execution_count": 54
        }
      ]
    },
    {
      "cell_type": "code",
      "source": [
        "df_receita_blog = df[['data', 'receita_blog']].copy()\n",
        "\n",
        "# Filtrar apenas os valores maiores que zero na coluna 'receita_site'\n",
        "df_receita_blog = df_receita_blog[df_receita_blog['receita_blog'] > 0]"
      ],
      "metadata": {
        "id": "UMgz3BFK45sN"
      },
      "execution_count": 55,
      "outputs": []
    },
    {
      "cell_type": "code",
      "source": [
        "df_receita_blog"
      ],
      "metadata": {
        "colab": {
          "base_uri": "https://localhost:8080/",
          "height": 424
        },
        "id": "6d-j90C85DwP",
        "outputId": "85b90b2d-3f7c-42be-b9df-27483d8f9285"
      },
      "execution_count": 56,
      "outputs": [
        {
          "output_type": "execute_result",
          "data": {
            "text/plain": [
              "           data  receita_blog\n",
              "176  2020-06-01  2.169131e+04\n",
              "178  2020-06-03  2.022992e+05\n",
              "180  2020-06-05  3.871537e+05\n",
              "181  2020-06-06  8.368080e+05\n",
              "182  2020-06-07  9.053188e+05\n",
              "..          ...           ...\n",
              "288  2020-09-24  1.967247e+06\n",
              "289  2020-09-25  1.729149e+06\n",
              "290  2020-09-26  1.380186e+06\n",
              "291  2020-09-27  1.140545e+06\n",
              "292  2020-09-28  1.894825e+06\n",
              "\n",
              "[113 rows x 2 columns]"
            ],
            "text/html": [
              "\n",
              "  <div id=\"df-2ea782f5-a2de-4486-bb81-5830dff60818\" class=\"colab-df-container\">\n",
              "    <div>\n",
              "<style scoped>\n",
              "    .dataframe tbody tr th:only-of-type {\n",
              "        vertical-align: middle;\n",
              "    }\n",
              "\n",
              "    .dataframe tbody tr th {\n",
              "        vertical-align: top;\n",
              "    }\n",
              "\n",
              "    .dataframe thead th {\n",
              "        text-align: right;\n",
              "    }\n",
              "</style>\n",
              "<table border=\"1\" class=\"dataframe\">\n",
              "  <thead>\n",
              "    <tr style=\"text-align: right;\">\n",
              "      <th></th>\n",
              "      <th>data</th>\n",
              "      <th>receita_blog</th>\n",
              "    </tr>\n",
              "  </thead>\n",
              "  <tbody>\n",
              "    <tr>\n",
              "      <th>176</th>\n",
              "      <td>2020-06-01</td>\n",
              "      <td>2.169131e+04</td>\n",
              "    </tr>\n",
              "    <tr>\n",
              "      <th>178</th>\n",
              "      <td>2020-06-03</td>\n",
              "      <td>2.022992e+05</td>\n",
              "    </tr>\n",
              "    <tr>\n",
              "      <th>180</th>\n",
              "      <td>2020-06-05</td>\n",
              "      <td>3.871537e+05</td>\n",
              "    </tr>\n",
              "    <tr>\n",
              "      <th>181</th>\n",
              "      <td>2020-06-06</td>\n",
              "      <td>8.368080e+05</td>\n",
              "    </tr>\n",
              "    <tr>\n",
              "      <th>182</th>\n",
              "      <td>2020-06-07</td>\n",
              "      <td>9.053188e+05</td>\n",
              "    </tr>\n",
              "    <tr>\n",
              "      <th>...</th>\n",
              "      <td>...</td>\n",
              "      <td>...</td>\n",
              "    </tr>\n",
              "    <tr>\n",
              "      <th>288</th>\n",
              "      <td>2020-09-24</td>\n",
              "      <td>1.967247e+06</td>\n",
              "    </tr>\n",
              "    <tr>\n",
              "      <th>289</th>\n",
              "      <td>2020-09-25</td>\n",
              "      <td>1.729149e+06</td>\n",
              "    </tr>\n",
              "    <tr>\n",
              "      <th>290</th>\n",
              "      <td>2020-09-26</td>\n",
              "      <td>1.380186e+06</td>\n",
              "    </tr>\n",
              "    <tr>\n",
              "      <th>291</th>\n",
              "      <td>2020-09-27</td>\n",
              "      <td>1.140545e+06</td>\n",
              "    </tr>\n",
              "    <tr>\n",
              "      <th>292</th>\n",
              "      <td>2020-09-28</td>\n",
              "      <td>1.894825e+06</td>\n",
              "    </tr>\n",
              "  </tbody>\n",
              "</table>\n",
              "<p>113 rows × 2 columns</p>\n",
              "</div>\n",
              "    <div class=\"colab-df-buttons\">\n",
              "\n",
              "  <div class=\"colab-df-container\">\n",
              "    <button class=\"colab-df-convert\" onclick=\"convertToInteractive('df-2ea782f5-a2de-4486-bb81-5830dff60818')\"\n",
              "            title=\"Convert this dataframe to an interactive table.\"\n",
              "            style=\"display:none;\">\n",
              "\n",
              "  <svg xmlns=\"http://www.w3.org/2000/svg\" height=\"24px\" viewBox=\"0 -960 960 960\">\n",
              "    <path d=\"M120-120v-720h720v720H120Zm60-500h600v-160H180v160Zm220 220h160v-160H400v160Zm0 220h160v-160H400v160ZM180-400h160v-160H180v160Zm440 0h160v-160H620v160ZM180-180h160v-160H180v160Zm440 0h160v-160H620v160Z\"/>\n",
              "  </svg>\n",
              "    </button>\n",
              "\n",
              "  <style>\n",
              "    .colab-df-container {\n",
              "      display:flex;\n",
              "      gap: 12px;\n",
              "    }\n",
              "\n",
              "    .colab-df-convert {\n",
              "      background-color: #E8F0FE;\n",
              "      border: none;\n",
              "      border-radius: 50%;\n",
              "      cursor: pointer;\n",
              "      display: none;\n",
              "      fill: #1967D2;\n",
              "      height: 32px;\n",
              "      padding: 0 0 0 0;\n",
              "      width: 32px;\n",
              "    }\n",
              "\n",
              "    .colab-df-convert:hover {\n",
              "      background-color: #E2EBFA;\n",
              "      box-shadow: 0px 1px 2px rgba(60, 64, 67, 0.3), 0px 1px 3px 1px rgba(60, 64, 67, 0.15);\n",
              "      fill: #174EA6;\n",
              "    }\n",
              "\n",
              "    .colab-df-buttons div {\n",
              "      margin-bottom: 4px;\n",
              "    }\n",
              "\n",
              "    [theme=dark] .colab-df-convert {\n",
              "      background-color: #3B4455;\n",
              "      fill: #D2E3FC;\n",
              "    }\n",
              "\n",
              "    [theme=dark] .colab-df-convert:hover {\n",
              "      background-color: #434B5C;\n",
              "      box-shadow: 0px 1px 3px 1px rgba(0, 0, 0, 0.15);\n",
              "      filter: drop-shadow(0px 1px 2px rgba(0, 0, 0, 0.3));\n",
              "      fill: #FFFFFF;\n",
              "    }\n",
              "  </style>\n",
              "\n",
              "    <script>\n",
              "      const buttonEl =\n",
              "        document.querySelector('#df-2ea782f5-a2de-4486-bb81-5830dff60818 button.colab-df-convert');\n",
              "      buttonEl.style.display =\n",
              "        google.colab.kernel.accessAllowed ? 'block' : 'none';\n",
              "\n",
              "      async function convertToInteractive(key) {\n",
              "        const element = document.querySelector('#df-2ea782f5-a2de-4486-bb81-5830dff60818');\n",
              "        const dataTable =\n",
              "          await google.colab.kernel.invokeFunction('convertToInteractive',\n",
              "                                                    [key], {});\n",
              "        if (!dataTable) return;\n",
              "\n",
              "        const docLinkHtml = 'Like what you see? Visit the ' +\n",
              "          '<a target=\"_blank\" href=https://colab.research.google.com/notebooks/data_table.ipynb>data table notebook</a>'\n",
              "          + ' to learn more about interactive tables.';\n",
              "        element.innerHTML = '';\n",
              "        dataTable['output_type'] = 'display_data';\n",
              "        await google.colab.output.renderOutput(dataTable, element);\n",
              "        const docLink = document.createElement('div');\n",
              "        docLink.innerHTML = docLinkHtml;\n",
              "        element.appendChild(docLink);\n",
              "      }\n",
              "    </script>\n",
              "  </div>\n",
              "\n",
              "\n",
              "<div id=\"df-69b8f68a-0653-41bd-8b7e-6e1bc6c9f347\">\n",
              "  <button class=\"colab-df-quickchart\" onclick=\"quickchart('df-69b8f68a-0653-41bd-8b7e-6e1bc6c9f347')\"\n",
              "            title=\"Suggest charts.\"\n",
              "            style=\"display:none;\">\n",
              "\n",
              "<svg xmlns=\"http://www.w3.org/2000/svg\" height=\"24px\"viewBox=\"0 0 24 24\"\n",
              "     width=\"24px\">\n",
              "    <g>\n",
              "        <path d=\"M19 3H5c-1.1 0-2 .9-2 2v14c0 1.1.9 2 2 2h14c1.1 0 2-.9 2-2V5c0-1.1-.9-2-2-2zM9 17H7v-7h2v7zm4 0h-2V7h2v10zm4 0h-2v-4h2v4z\"/>\n",
              "    </g>\n",
              "</svg>\n",
              "  </button>\n",
              "\n",
              "<style>\n",
              "  .colab-df-quickchart {\n",
              "      --bg-color: #E8F0FE;\n",
              "      --fill-color: #1967D2;\n",
              "      --hover-bg-color: #E2EBFA;\n",
              "      --hover-fill-color: #174EA6;\n",
              "      --disabled-fill-color: #AAA;\n",
              "      --disabled-bg-color: #DDD;\n",
              "  }\n",
              "\n",
              "  [theme=dark] .colab-df-quickchart {\n",
              "      --bg-color: #3B4455;\n",
              "      --fill-color: #D2E3FC;\n",
              "      --hover-bg-color: #434B5C;\n",
              "      --hover-fill-color: #FFFFFF;\n",
              "      --disabled-bg-color: #3B4455;\n",
              "      --disabled-fill-color: #666;\n",
              "  }\n",
              "\n",
              "  .colab-df-quickchart {\n",
              "    background-color: var(--bg-color);\n",
              "    border: none;\n",
              "    border-radius: 50%;\n",
              "    cursor: pointer;\n",
              "    display: none;\n",
              "    fill: var(--fill-color);\n",
              "    height: 32px;\n",
              "    padding: 0;\n",
              "    width: 32px;\n",
              "  }\n",
              "\n",
              "  .colab-df-quickchart:hover {\n",
              "    background-color: var(--hover-bg-color);\n",
              "    box-shadow: 0 1px 2px rgba(60, 64, 67, 0.3), 0 1px 3px 1px rgba(60, 64, 67, 0.15);\n",
              "    fill: var(--button-hover-fill-color);\n",
              "  }\n",
              "\n",
              "  .colab-df-quickchart-complete:disabled,\n",
              "  .colab-df-quickchart-complete:disabled:hover {\n",
              "    background-color: var(--disabled-bg-color);\n",
              "    fill: var(--disabled-fill-color);\n",
              "    box-shadow: none;\n",
              "  }\n",
              "\n",
              "  .colab-df-spinner {\n",
              "    border: 2px solid var(--fill-color);\n",
              "    border-color: transparent;\n",
              "    border-bottom-color: var(--fill-color);\n",
              "    animation:\n",
              "      spin 1s steps(1) infinite;\n",
              "  }\n",
              "\n",
              "  @keyframes spin {\n",
              "    0% {\n",
              "      border-color: transparent;\n",
              "      border-bottom-color: var(--fill-color);\n",
              "      border-left-color: var(--fill-color);\n",
              "    }\n",
              "    20% {\n",
              "      border-color: transparent;\n",
              "      border-left-color: var(--fill-color);\n",
              "      border-top-color: var(--fill-color);\n",
              "    }\n",
              "    30% {\n",
              "      border-color: transparent;\n",
              "      border-left-color: var(--fill-color);\n",
              "      border-top-color: var(--fill-color);\n",
              "      border-right-color: var(--fill-color);\n",
              "    }\n",
              "    40% {\n",
              "      border-color: transparent;\n",
              "      border-right-color: var(--fill-color);\n",
              "      border-top-color: var(--fill-color);\n",
              "    }\n",
              "    60% {\n",
              "      border-color: transparent;\n",
              "      border-right-color: var(--fill-color);\n",
              "    }\n",
              "    80% {\n",
              "      border-color: transparent;\n",
              "      border-right-color: var(--fill-color);\n",
              "      border-bottom-color: var(--fill-color);\n",
              "    }\n",
              "    90% {\n",
              "      border-color: transparent;\n",
              "      border-bottom-color: var(--fill-color);\n",
              "    }\n",
              "  }\n",
              "</style>\n",
              "\n",
              "  <script>\n",
              "    async function quickchart(key) {\n",
              "      const quickchartButtonEl =\n",
              "        document.querySelector('#' + key + ' button');\n",
              "      quickchartButtonEl.disabled = true;  // To prevent multiple clicks.\n",
              "      quickchartButtonEl.classList.add('colab-df-spinner');\n",
              "      try {\n",
              "        const charts = await google.colab.kernel.invokeFunction(\n",
              "            'suggestCharts', [key], {});\n",
              "      } catch (error) {\n",
              "        console.error('Error during call to suggestCharts:', error);\n",
              "      }\n",
              "      quickchartButtonEl.classList.remove('colab-df-spinner');\n",
              "      quickchartButtonEl.classList.add('colab-df-quickchart-complete');\n",
              "    }\n",
              "    (() => {\n",
              "      let quickchartButtonEl =\n",
              "        document.querySelector('#df-69b8f68a-0653-41bd-8b7e-6e1bc6c9f347 button');\n",
              "      quickchartButtonEl.style.display =\n",
              "        google.colab.kernel.accessAllowed ? 'block' : 'none';\n",
              "    })();\n",
              "  </script>\n",
              "</div>\n",
              "    </div>\n",
              "  </div>\n"
            ]
          },
          "metadata": {},
          "execution_count": 56
        }
      ]
    },
    {
      "cell_type": "markdown",
      "source": [
        "# **PREPARAÇÃO DA SÉRIE PARA O MODELO**"
      ],
      "metadata": {
        "id": "XAHWU6M0vfI6"
      }
    },
    {
      "cell_type": "markdown",
      "source": [
        "# Verificando a estacionariedade"
      ],
      "metadata": {
        "id": "BXzy2GG-rQWy"
      }
    },
    {
      "cell_type": "code",
      "source": [
        "from statsmodels.tsa.stattools import adfuller\n",
        "\n",
        "resultado_adf_site = adfuller(df_receita_site['receita_site'])# Aplicando o teste ADF\n",
        "\n",
        "# Extraindo os resultados\n",
        "estatistica_teste_site = resultado_adf_site[0]\n",
        "valor_p_site = resultado_adf_site[1]\n",
        "valores_criticos_site = resultado_adf_site[4]\n",
        "\n",
        "\n",
        "print('Estatística do teste ADF:', estatistica_teste_site)\n",
        "print('Valor-p:', valor_p_site)\n",
        "print('Valores críticos:')\n",
        "for chave, valor in valores_criticos_site.items():\n",
        "    print('\\t', chave, ':', valor)"
      ],
      "metadata": {
        "colab": {
          "base_uri": "https://localhost:8080/"
        },
        "id": "IW3Byt92vefN",
        "outputId": "7eb83989-b2c1-4c17-ef3a-c46fc8b5c03b"
      },
      "execution_count": 57,
      "outputs": [
        {
          "output_type": "stream",
          "name": "stdout",
          "text": [
            "Estatística do teste ADF: -2.4012808394632343\n",
            "Valor-p: 0.1413752275153622\n",
            "Valores críticos:\n",
            "\t 1% : -3.4535050041524245\n",
            "\t 5% : -2.8717352599720294\n",
            "\t 10% : -2.5722024776854417\n"
          ]
        }
      ]
    },
    {
      "cell_type": "code",
      "source": [
        "# Verificando se a série é estacionária ou não\n",
        "if valor_p_site < 0.05:\n",
        "    print('A série é estacionária')\n",
        "else:\n",
        "    print('A série não é estacionária')"
      ],
      "metadata": {
        "colab": {
          "base_uri": "https://localhost:8080/"
        },
        "id": "wXUEky3dvsdJ",
        "outputId": "ee36513f-8c1c-44b6-9ce6-6639a1fed43d"
      },
      "execution_count": 58,
      "outputs": [
        {
          "output_type": "stream",
          "name": "stdout",
          "text": [
            "A série não é estacionária\n"
          ]
        }
      ]
    },
    {
      "cell_type": "markdown",
      "source": [
        "# Corrigindo a não estacionariedade"
      ],
      "metadata": {
        "id": "Sz0SHlF2jDXa"
      }
    },
    {
      "cell_type": "code",
      "source": [
        "df_receita_site['primeira_diferenca'] = df_receita_site['receita_site'].diff()"
      ],
      "metadata": {
        "id": "OonkIYKvisPP"
      },
      "execution_count": 59,
      "outputs": []
    },
    {
      "cell_type": "code",
      "source": [
        "resultado_adf_primeira_dif = adfuller(df_receita_site['primeira_diferenca'].dropna())\n",
        "\n",
        "estatistica_teste_site_primeira_dif = resultado_adf_primeira_dif[0]\n",
        "valor_p_site_primeira_dif = resultado_adf_primeira_dif[1]\n",
        "valores_criticos_site_primeira_diff = resultado_adf_primeira_dif[4]\n",
        "\n",
        "print('Estatística do teste ADF:', estatistica_teste_site_primeira_dif)\n",
        "print('Valor-p:', valor_p_site_primeira_dif)\n",
        "print('Valores críticos:')\n",
        "for chave, valor in valores_criticos_site_primeira_diff.items():\n",
        "    print('\\t', chave, ':', valor)\n",
        "\n"
      ],
      "metadata": {
        "colab": {
          "base_uri": "https://localhost:8080/"
        },
        "id": "z8OL4VSunFDw",
        "outputId": "38c741da-795d-476a-c67d-940a87dc4529"
      },
      "execution_count": 60,
      "outputs": [
        {
          "output_type": "stream",
          "name": "stdout",
          "text": [
            "Estatística do teste ADF: -8.09027949420287\n",
            "Valor-p: 1.3842186588870067e-12\n",
            "Valores críticos:\n",
            "\t 1% : -3.4535050041524245\n",
            "\t 5% : -2.8717352599720294\n",
            "\t 10% : -2.5722024776854417\n"
          ]
        }
      ]
    },
    {
      "cell_type": "code",
      "source": [
        "# Verificando se a série é estacionária ou não\n",
        "if valor_p_site_primeira_dif < 0.05:\n",
        "    print('A série é estacionária')\n",
        "else:\n",
        "    print('A série não é estacionária')"
      ],
      "metadata": {
        "colab": {
          "base_uri": "https://localhost:8080/"
        },
        "id": "LXJPgrIPoWqm",
        "outputId": "7a9198ec-4121-4c43-cea5-5cf0d0afef22"
      },
      "execution_count": 61,
      "outputs": [
        {
          "output_type": "stream",
          "name": "stdout",
          "text": [
            "A série é estacionária\n"
          ]
        }
      ]
    },
    {
      "cell_type": "markdown",
      "source": [
        "# Aplicando ACF e PACF"
      ],
      "metadata": {
        "id": "TWz_vulkkOCr"
      }
    },
    {
      "cell_type": "code",
      "source": [
        "import pandas.util.testing as tm\n",
        "from statsmodels.graphics.tsaplots import plot_acf\n",
        "from statsmodels.graphics.tsaplots import plot_pacf\n",
        "from matplotlib import pyplot"
      ],
      "metadata": {
        "id": "YvIYKHqzvuoW"
      },
      "execution_count": 62,
      "outputs": []
    },
    {
      "cell_type": "code",
      "source": [
        "from statsmodels.graphics.tsaplots import plot_acf\n",
        "\n",
        "# Converter a coluna 'receita' para tipo numérico\n",
        "df_receita_site['receita_site'] = pd.to_numeric(df_receita_site['receita_site'])"
      ],
      "metadata": {
        "id": "fkk0wZq_vxG0"
      },
      "execution_count": 63,
      "outputs": []
    },
    {
      "cell_type": "code",
      "source": [
        "plot_acf(df_receita_site['receita_site'], lags=60)\n",
        "plt.show()"
      ],
      "metadata": {
        "colab": {
          "base_uri": "https://localhost:8080/",
          "height": 452
        },
        "id": "muBxwUnYv5aa",
        "outputId": "ef9d4cce-36f4-452f-8fcb-04796b574f6f"
      },
      "execution_count": 64,
      "outputs": [
        {
          "output_type": "display_data",
          "data": {
            "text/plain": [
              "<Figure size 640x480 with 1 Axes>"
            ],
            "image/png": "[encoded data removed]"
          },
          "metadata": {}
        }
      ]
    },
    {
      "cell_type": "code",
      "source": [
        "plot_pacf(df_receita_site['receita_site'], lags=60)\n",
        "plt.show()"
      ],
      "metadata": {
        "colab": {
          "base_uri": "https://localhost:8080/",
          "height": 452
        },
        "id": "oPaBWKf9wAgG",
        "outputId": "8207c1db-4b51-424b-cda4-0a5407d5f44d"
      },
      "execution_count": 65,
      "outputs": [
        {
          "output_type": "display_data",
          "data": {
            "text/plain": [
              "<Figure size 640x480 with 1 Axes>"
            ],
            "image/png": "[encoded data removed]"
          },
          "metadata": {}
        }
      ]
    },
    {
      "cell_type": "markdown",
      "source": [
        "# **APLICAÇÃO DO MODELO**"
      ],
      "metadata": {
        "id": "4TYw20FtsDW-"
      }
    },
    {
      "cell_type": "code",
      "source": [
        "from statsmodels.tsa.arima.model import ARIMA\n",
        "# Ajustando o modelo ARIMA com os dados de treinamento\n",
        "modelo_site = ARIMA(df_receita_site['receita_site'], order=(1, 1, 1))\n",
        "modelo_treinado_site = modelo_site.fit()\n",
        "\n",
        "#Previsão dos próximos 6 meses a partir de junho\n",
        "'''ultima_data_site = pd.to_datetime(df_receita_site['data'].max())\n",
        "data_inicial_site= ultima_data_site + pd.DateOffset(months=1)\n",
        "indices_site = pd.date_range(start=data_inicial_site, periods=6, freq='MS')\n",
        "previsao_site = modelo_treinado_site.get_forecast(steps=6)'''\n"
      ],
      "metadata": {
        "id": "NWf0sHBHwnek",
        "colab": {
          "base_uri": "https://localhost:8080/",
          "height": 55
        },
        "outputId": "65695ac7-a492-432a-c6c3-4125a517c4bf"
      },
      "execution_count": 84,
      "outputs": [
        {
          "output_type": "execute_result",
          "data": {
            "text/plain": [
              "\"ultima_data_site = pd.to_datetime(df_receita_site['data'].max())\\ndata_inicial_site= ultima_data_site + pd.DateOffset(months=1)\\nindices_site = pd.date_range(start=data_inicial_site, periods=6, freq='MS')\\nprevisao_site = modelo_treinado_site.get_forecast(steps=6)\""
            ],
            "application/vnd.google.colaboratory.intrinsic+json": {
              "type": "string"
            }
          },
          "metadata": {},
          "execution_count": 84
        }
      ]
    },
    {
      "cell_type": "code",
      "source": [
        "# Número de meses para previsao\n",
        "num_meses = 6\n",
        "\n",
        "# Ajustando o modelo ARIMA com os dados de treinamento\n",
        "modelo_site = ARIMA(df_receita_site['receita_site'], order=(1, 1, 1))\n",
        "modelo_treinado_site = modelo_site.fit()\n",
        "\n",
        "\n",
        "previsao_receita_site = modelo_treinado_site.get_forecast(steps=num_meses)\n",
        "valores_previstos_site = previsao_receita_site.predicted_mean\n",
        "\n",
        "# Obtendo os intervalos de confiança\n",
        "intervalos_confianca_site = previsao_receita_site.conf_int()"
      ],
      "metadata": {
        "id": "Ix4nJ8JI_gnV"
      },
      "execution_count": 130,
      "outputs": []
    },
    {
      "cell_type": "code",
      "source": [
        "print(\"Previsão para os Próximos 12 Meses:\")\n",
        "print(valores_previstos_site)\n",
        "\n",
        "print(\"\\nIntervalos de Confiança:\")\n",
        "print(intervalos_confianca_site)"
      ],
      "metadata": {
        "colab": {
          "base_uri": "https://localhost:8080/"
        },
        "id": "pGGfsFwtDrO9",
        "outputId": "a6cfb820-d7b1-4ab1-d53c-5e311806b611"
      },
      "execution_count": 131,
      "outputs": [
        {
          "output_type": "stream",
          "name": "stdout",
          "text": [
            "Previsão para os Próximos 12 Meses:\n",
            "293    1.565560e+06\n",
            "294    1.545349e+06\n",
            "295    1.534031e+06\n",
            "296    1.527693e+06\n",
            "297    1.524143e+06\n",
            "298    1.522156e+06\n",
            "Name: predicted_mean, dtype: float64\n",
            "\n",
            "Intervalos de Confiança:\n",
            "     lower receita_site  upper receita_site\n",
            "293       673929.057015        2.457191e+06\n",
            "294       460134.322538        2.630564e+06\n",
            "295       353102.983894        2.714960e+06\n",
            "296       287100.026957        2.768286e+06\n",
            "297       239854.446955        2.808432e+06\n",
            "298       202076.609096        2.842235e+06\n"
          ]
        }
      ]
    },
    {
      "cell_type": "code",
      "source": [
        "# Obtendo os valores previstos e os intervalos de confiança\n",
        "valores_previstos_site = previsao_receita_site.predicted_mean\n",
        "intervalo_inferior_site = previsao_receita_site.conf_int()['lower receita_site']\n",
        "intervalo_superior_site = previsao_receita_site.conf_int()['upper receita_site']"
      ],
      "metadata": {
        "id": "dnvzNG6wwzuf"
      },
      "execution_count": 132,
      "outputs": []
    },
    {
      "cell_type": "code",
      "source": [
        "previsao_receita_site.predicted_mean"
      ],
      "metadata": {
        "colab": {
          "base_uri": "https://localhost:8080/"
        },
        "id": "i10Rw1wYCQMl",
        "outputId": "b7d34df5-c857-4679-a3e3-ae739ede850c"
      },
      "execution_count": 133,
      "outputs": [
        {
          "output_type": "execute_result",
          "data": {
            "text/plain": [
              "293    1.565560e+06\n",
              "294    1.545349e+06\n",
              "295    1.534031e+06\n",
              "296    1.527693e+06\n",
              "297    1.524143e+06\n",
              "298    1.522156e+06\n",
              "Name: predicted_mean, dtype: float64"
            ]
          },
          "metadata": {},
          "execution_count": 133
        }
      ]
    },
    {
      "cell_type": "code",
      "source": [
        "# Criando DataFrame com os resultados da previsão\n",
        "df_previsao_receita_site = pd.DataFrame({\n",
        "    'Data': indices_site,\n",
        "    'Receita Prevista': valores_previstos_site,\n",
        "    'Intervalo Inferior': intervalo_inferior_site,\n",
        "    'Intervalo Superior': intervalo_superior_site\n",
        "})\n",
        "\n",
        "df_previsao_receita_site"
      ],
      "metadata": {
        "colab": {
          "base_uri": "https://localhost:8080/",
          "height": 238
        },
        "id": "Jo3GnynQw46X",
        "outputId": "0c8a5e3a-9a37-434e-fe9b-36e10806dcbe"
      },
      "execution_count": 134,
      "outputs": [
        {
          "output_type": "execute_result",
          "data": {
            "text/plain": [
              "          Data  Receita Prevista  Intervalo Inferior  Intervalo Superior\n",
              "293 2020-11-01      1.565560e+06       673929.057015        2.457191e+06\n",
              "294 2020-12-01      1.545349e+06       460134.322538        2.630564e+06\n",
              "295 2021-01-01      1.534031e+06       353102.983894        2.714960e+06\n",
              "296 2021-02-01      1.527693e+06       287100.026957        2.768286e+06\n",
              "297 2021-03-01      1.524143e+06       239854.446955        2.808432e+06\n",
              "298 2021-04-01      1.522156e+06       202076.609096        2.842235e+06"
            ],
            "text/html": [
              "\n",
              "  <div id=\"df-ce66be59-d007-401e-8f82-b7b379395ac3\" class=\"colab-df-container\">\n",
              "    <div>\n",
              "<style scoped>\n",
              "    .dataframe tbody tr th:only-of-type {\n",
              "        vertical-align: middle;\n",
              "    }\n",
              "\n",
              "    .dataframe tbody tr th {\n",
              "        vertical-align: top;\n",
              "    }\n",
              "\n",
              "    .dataframe thead th {\n",
              "        text-align: right;\n",
              "    }\n",
              "</style>\n",
              "<table border=\"1\" class=\"dataframe\">\n",
              "  <thead>\n",
              "    <tr style=\"text-align: right;\">\n",
              "      <th></th>\n",
              "      <th>Data</th>\n",
              "      <th>Receita Prevista</th>\n",
              "      <th>Intervalo Inferior</th>\n",
              "      <th>Intervalo Superior</th>\n",
              "    </tr>\n",
              "  </thead>\n",
              "  <tbody>\n",
              "    <tr>\n",
              "      <th>293</th>\n",
              "      <td>2020-11-01</td>\n",
              "      <td>1.565560e+06</td>\n",
              "      <td>673929.057015</td>\n",
              "      <td>2.457191e+06</td>\n",
              "    </tr>\n",
              "    <tr>\n",
              "      <th>294</th>\n",
              "      <td>2020-12-01</td>\n",
              "      <td>1.545349e+06</td>\n",
              "      <td>460134.322538</td>\n",
              "      <td>2.630564e+06</td>\n",
              "    </tr>\n",
              "    <tr>\n",
              "      <th>295</th>\n",
              "      <td>2021-01-01</td>\n",
              "      <td>1.534031e+06</td>\n",
              "      <td>353102.983894</td>\n",
              "      <td>2.714960e+06</td>\n",
              "    </tr>\n",
              "    <tr>\n",
              "      <th>296</th>\n",
              "      <td>2021-02-01</td>\n",
              "      <td>1.527693e+06</td>\n",
              "      <td>287100.026957</td>\n",
              "      <td>2.768286e+06</td>\n",
              "    </tr>\n",
              "    <tr>\n",
              "      <th>297</th>\n",
              "      <td>2021-03-01</td>\n",
              "      <td>1.524143e+06</td>\n",
              "      <td>239854.446955</td>\n",
              "      <td>2.808432e+06</td>\n",
              "    </tr>\n",
              "    <tr>\n",
              "      <th>298</th>\n",
              "      <td>2021-04-01</td>\n",
              "      <td>1.522156e+06</td>\n",
              "      <td>202076.609096</td>\n",
              "      <td>2.842235e+06</td>\n",
              "    </tr>\n",
              "  </tbody>\n",
              "</table>\n",
              "</div>\n",
              "    <div class=\"colab-df-buttons\">\n",
              "\n",
              "  <div class=\"colab-df-container\">\n",
              "    <button class=\"colab-df-convert\" onclick=\"convertToInteractive('df-ce66be59-d007-401e-8f82-b7b379395ac3')\"\n",
              "            title=\"Convert this dataframe to an interactive table.\"\n",
              "            style=\"display:none;\">\n",
              "\n",
              "  <svg xmlns=\"http://www.w3.org/2000/svg\" height=\"24px\" viewBox=\"0 -960 960 960\">\n",
              "    <path d=\"M120-120v-720h720v720H120Zm60-500h600v-160H180v160Zm220 220h160v-160H400v160Zm0 220h160v-160H400v160ZM180-400h160v-160H180v160Zm440 0h160v-160H620v160ZM180-180h160v-160H180v160Zm440 0h160v-160H620v160Z\"/>\n",
              "  </svg>\n",
              "    </button>\n",
              "\n",
              "  <style>\n",
              "    .colab-df-container {\n",
              "      display:flex;\n",
              "      gap: 12px;\n",
              "    }\n",
              "\n",
              "    .colab-df-convert {\n",
              "      background-color: #E8F0FE;\n",
              "      border: none;\n",
              "      border-radius: 50%;\n",
              "      cursor: pointer;\n",
              "      display: none;\n",
              "      fill: #1967D2;\n",
              "      height: 32px;\n",
              "      padding: 0 0 0 0;\n",
              "      width: 32px;\n",
              "    }\n",
              "\n",
              "    .colab-df-convert:hover {\n",
              "      background-color: #E2EBFA;\n",
              "      box-shadow: 0px 1px 2px rgba(60, 64, 67, 0.3), 0px 1px 3px 1px rgba(60, 64, 67, 0.15);\n",
              "      fill: #174EA6;\n",
              "    }\n",
              "\n",
              "    .colab-df-buttons div {\n",
              "      margin-bottom: 4px;\n",
              "    }\n",
              "\n",
              "    [theme=dark] .colab-df-convert {\n",
              "      background-color: #3B4455;\n",
              "      fill: #D2E3FC;\n",
              "    }\n",
              "\n",
              "    [theme=dark] .colab-df-convert:hover {\n",
              "      background-color: #434B5C;\n",
              "      box-shadow: 0px 1px 3px 1px rgba(0, 0, 0, 0.15);\n",
              "      filter: drop-shadow(0px 1px 2px rgba(0, 0, 0, 0.3));\n",
              "      fill: #FFFFFF;\n",
              "    }\n",
              "  </style>\n",
              "\n",
              "    <script>\n",
              "      const buttonEl =\n",
              "        document.querySelector('#df-ce66be59-d007-401e-8f82-b7b379395ac3 button.colab-df-convert');\n",
              "      buttonEl.style.display =\n",
              "        google.colab.kernel.accessAllowed ? 'block' : 'none';\n",
              "\n",
              "      async function convertToInteractive(key) {\n",
              "        const element = document.querySelector('#df-ce66be59-d007-401e-8f82-b7b379395ac3');\n",
              "        const dataTable =\n",
              "          await google.colab.kernel.invokeFunction('convertToInteractive',\n",
              "                                                    [key], {});\n",
              "        if (!dataTable) return;\n",
              "\n",
              "        const docLinkHtml = 'Like what you see? Visit the ' +\n",
              "          '<a target=\"_blank\" href=https://colab.research.google.com/notebooks/data_table.ipynb>data table notebook</a>'\n",
              "          + ' to learn more about interactive tables.';\n",
              "        element.innerHTML = '';\n",
              "        dataTable['output_type'] = 'display_data';\n",
              "        await google.colab.output.renderOutput(dataTable, element);\n",
              "        const docLink = document.createElement('div');\n",
              "        docLink.innerHTML = docLinkHtml;\n",
              "        element.appendChild(docLink);\n",
              "      }\n",
              "    </script>\n",
              "  </div>\n",
              "\n",
              "\n",
              "<div id=\"df-9d2294e6-7213-43c2-b1f4-975dff03efd4\">\n",
              "  <button class=\"colab-df-quickchart\" onclick=\"quickchart('df-9d2294e6-7213-43c2-b1f4-975dff03efd4')\"\n",
              "            title=\"Suggest charts.\"\n",
              "            style=\"display:none;\">\n",
              "\n",
              "<svg xmlns=\"http://www.w3.org/2000/svg\" height=\"24px\"viewBox=\"0 0 24 24\"\n",
              "     width=\"24px\">\n",
              "    <g>\n",
              "        <path d=\"M19 3H5c-1.1 0-2 .9-2 2v14c0 1.1.9 2 2 2h14c1.1 0 2-.9 2-2V5c0-1.1-.9-2-2-2zM9 17H7v-7h2v7zm4 0h-2V7h2v10zm4 0h-2v-4h2v4z\"/>\n",
              "    </g>\n",
              "</svg>\n",
              "  </button>\n",
              "\n",
              "<style>\n",
              "  .colab-df-quickchart {\n",
              "      --bg-color: #E8F0FE;\n",
              "      --fill-color: #1967D2;\n",
              "      --hover-bg-color: #E2EBFA;\n",
              "      --hover-fill-color: #174EA6;\n",
              "      --disabled-fill-color: #AAA;\n",
              "      --disabled-bg-color: #DDD;\n",
              "  }\n",
              "\n",
              "  [theme=dark] .colab-df-quickchart {\n",
              "      --bg-color: #3B4455;\n",
              "      --fill-color: #D2E3FC;\n",
              "      --hover-bg-color: #434B5C;\n",
              "      --hover-fill-color: #FFFFFF;\n",
              "      --disabled-bg-color: #3B4455;\n",
              "      --disabled-fill-color: #666;\n",
              "  }\n",
              "\n",
              "  .colab-df-quickchart {\n",
              "    background-color: var(--bg-color);\n",
              "    border: none;\n",
              "    border-radius: 50%;\n",
              "    cursor: pointer;\n",
              "    display: none;\n",
              "    fill: var(--fill-color);\n",
              "    height: 32px;\n",
              "    padding: 0;\n",
              "    width: 32px;\n",
              "  }\n",
              "\n",
              "  .colab-df-quickchart:hover {\n",
              "    background-color: var(--hover-bg-color);\n",
              "    box-shadow: 0 1px 2px rgba(60, 64, 67, 0.3), 0 1px 3px 1px rgba(60, 64, 67, 0.15);\n",
              "    fill: var(--button-hover-fill-color);\n",
              "  }\n",
              "\n",
              "  .colab-df-quickchart-complete:disabled,\n",
              "  .colab-df-quickchart-complete:disabled:hover {\n",
              "    background-color: var(--disabled-bg-color);\n",
              "    fill: var(--disabled-fill-color);\n",
              "    box-shadow: none;\n",
              "  }\n",
              "\n",
              "  .colab-df-spinner {\n",
              "    border: 2px solid var(--fill-color);\n",
              "    border-color: transparent;\n",
              "    border-bottom-color: var(--fill-color);\n",
              "    animation:\n",
              "      spin 1s steps(1) infinite;\n",
              "  }\n",
              "\n",
              "  @keyframes spin {\n",
              "    0% {\n",
              "      border-color: transparent;\n",
              "      border-bottom-color: var(--fill-color);\n",
              "      border-left-color: var(--fill-color);\n",
              "    }\n",
              "    20% {\n",
              "      border-color: transparent;\n",
              "      border-left-color: var(--fill-color);\n",
              "      border-top-color: var(--fill-color);\n",
              "    }\n",
              "    30% {\n",
              "      border-color: transparent;\n",
              "      border-left-color: var(--fill-color);\n",
              "      border-top-color: var(--fill-color);\n",
              "      border-right-color: var(--fill-color);\n",
              "    }\n",
              "    40% {\n",
              "      border-color: transparent;\n",
              "      border-right-color: var(--fill-color);\n",
              "      border-top-color: var(--fill-color);\n",
              "    }\n",
              "    60% {\n",
              "      border-color: transparent;\n",
              "      border-right-color: var(--fill-color);\n",
              "    }\n",
              "    80% {\n",
              "      border-color: transparent;\n",
              "      border-right-color: var(--fill-color);\n",
              "      border-bottom-color: var(--fill-color);\n",
              "    }\n",
              "    90% {\n",
              "      border-color: transparent;\n",
              "      border-bottom-color: var(--fill-color);\n",
              "    }\n",
              "  }\n",
              "</style>\n",
              "\n",
              "  <script>\n",
              "    async function quickchart(key) {\n",
              "      const quickchartButtonEl =\n",
              "        document.querySelector('#' + key + ' button');\n",
              "      quickchartButtonEl.disabled = true;  // To prevent multiple clicks.\n",
              "      quickchartButtonEl.classList.add('colab-df-spinner');\n",
              "      try {\n",
              "        const charts = await google.colab.kernel.invokeFunction(\n",
              "            'suggestCharts', [key], {});\n",
              "      } catch (error) {\n",
              "        console.error('Error during call to suggestCharts:', error);\n",
              "      }\n",
              "      quickchartButtonEl.classList.remove('colab-df-spinner');\n",
              "      quickchartButtonEl.classList.add('colab-df-quickchart-complete');\n",
              "    }\n",
              "    (() => {\n",
              "      let quickchartButtonEl =\n",
              "        document.querySelector('#df-9d2294e6-7213-43c2-b1f4-975dff03efd4 button');\n",
              "      quickchartButtonEl.style.display =\n",
              "        google.colab.kernel.accessAllowed ? 'block' : 'none';\n",
              "    })();\n",
              "  </script>\n",
              "</div>\n",
              "    </div>\n",
              "  </div>\n"
            ]
          },
          "metadata": {},
          "execution_count": 134
        }
      ]
    },
    {
      "cell_type": "code",
      "source": [
        "df_previsao_receita_site['Receita Prevista'].mean()"
      ],
      "metadata": {
        "colab": {
          "base_uri": "https://localhost:8080/"
        },
        "id": "Ur2pW93iFxxC",
        "outputId": "603a83a7-3972-4dfb-cfd7-770a1d35d964"
      },
      "execution_count": 135,
      "outputs": [
        {
          "output_type": "execute_result",
          "data": {
            "text/plain": [
              "1536488.7921526881"
            ]
          },
          "metadata": {},
          "execution_count": 135
        }
      ]
    },
    {
      "cell_type": "code",
      "source": [
        "df_receita_site['receita_site'].mean()"
      ],
      "metadata": {
        "colab": {
          "base_uri": "https://localhost:8080/"
        },
        "id": "CMqqBmQRGMhk",
        "outputId": "1f902f28-cee7-4dd8-b012-54db50d35186"
      },
      "execution_count": 136,
      "outputs": [
        {
          "output_type": "execute_result",
          "data": {
            "text/plain": [
              "1868409.1292487993"
            ]
          },
          "metadata": {},
          "execution_count": 136
        }
      ]
    },
    {
      "cell_type": "code",
      "source": [
        "df_previsao_receita_site['Data'] = pd.to_datetime(df_previsao_receita_site['Data'])"
      ],
      "metadata": {
        "id": "3poUjj2DxGva"
      },
      "execution_count": 137,
      "outputs": []
    },
    {
      "cell_type": "code",
      "source": [
        "fig, ax = plt.subplots(figsize=(15, 10))\n",
        "\n",
        "plt.plot(df_receita_site['data'], df_receita_site['receita_site'], label='Dados Observados')\n",
        "df_previsao_receita_site['Data'] = pd.to_datetime(df_previsao_receita_site['Data'])\n",
        "plt.plot(df_previsao_receita_site['Data'].astype(str), df_previsao_receita_site['Receita Prevista'], label='Receita Prevista')\n",
        "plt.fill_between(df_previsao_receita_site['Data'].astype(str), df_previsao_receita_site['Intervalo Inferior'], df_previsao_receita_site['Intervalo Superior'],\n",
        "                 color='gray', alpha=0.3, label='Intervalo de Confiança')\n",
        "plt.xlabel('Data')\n",
        "plt.ylabel('Receita')\n",
        "plt.title('Previsão da Receita para os Próximos 6 Meses')\n",
        "plt.legend()\n",
        "\n",
        "# Obtendo os índices dos meses\n",
        "meses = df_previsao_receita_site['Data'].dt.month\n",
        "\n",
        "# Definindo os ticks e labels\n",
        "plt.gca().set_xticks(range(len(meses)))\n",
        "plt.gca().set_xticklabels(meses)\n",
        "\n",
        "plt.show()"
      ],
      "metadata": {
        "colab": {
          "base_uri": "https://localhost:8080/",
          "height": 873
        },
        "id": "K-Rm4F9SxSIC",
        "outputId": "7abb3d2f-cb98-44b6-ae0d-9a76e60d1471"
      },
      "execution_count": 139,
      "outputs": [
        {
          "output_type": "display_data",
          "data": {
            "text/plain": [
              "<Figure size 1500x1000 with 1 Axes>"
            ],
            "image/png": "[encoded data removed]"
          },
          "metadata": {}
        }
      ]
    },
    {
      "cell_type": "markdown",
      "source": [
        "# AVALIANDO O MODELO DA RECEITA DO SITE"
      ],
      "metadata": {
        "id": "rz7JuzNP6rkb"
      }
    },
    {
      "cell_type": "code",
      "source": [
        "from sklearn.datasets import fetch_california_housing\n",
        "from sklearn.model_selection import cross_val_score\n",
        "from sklearn.linear_model import LinearRegression\n"
      ],
      "metadata": {
        "id": "3Gt1W6hEmNWr"
      },
      "execution_count": 119,
      "outputs": []
    },
    {
      "cell_type": "code",
      "source": [
        "# Criando regressão linear com California Housing\n",
        "\n",
        "X, y = fetch_california_housing(return_X_y=True, as_frame=True)\n",
        "\n",
        "modelo = LinearRegression()\n",
        "\n",
        "\n",
        "scores = cross_val_score(modelo, X, y, cv=5, scoring='neg_mean_squared_error') # validação cruzada com 5 folds\n",
        "mse_scores = -scores\n",
        "\n",
        "std_mse = mse_scores.std()  # Calcula o desvio padrão dos erros quadráticos médios\n",
        "\n",
        "mean_mse = mse_scores.mean() # Calcula a média e o desvio padrão dos erros quadráticos médios"
      ],
      "metadata": {
        "id": "EPpAAhW7mOoY"
      },
      "execution_count": 120,
      "outputs": []
    },
    {
      "cell_type": "code",
      "source": [
        "print(\"Erros Quadráticos Médios:\")\n",
        "print(mse_scores)\n",
        "print(\"Média do Erro Quadrático Médio:\", mean_mse)\n",
        "print(\"Desvio Padrão do Erro Quadrático Médio:\", std_mse)"
      ],
      "metadata": {
        "colab": {
          "base_uri": "https://localhost:8080/"
        },
        "id": "CFypTmj6yLvT",
        "outputId": "da60a315-3eb7-48f8-c17c-5e1a35598d3b"
      },
      "execution_count": 121,
      "outputs": [
        {
          "output_type": "stream",
          "name": "stdout",
          "text": [
            "Erros Quadráticos Médios:\n",
            "[0.48485857 0.62249739 0.64621047 0.5431996  0.49468484]\n",
            "Média do Erro Quadrático Médio: 0.5582901717686546\n",
            "Desvio Padrão do Erro Quadrático Médio: 0.06560199778318038\n"
          ]
        }
      ]
    },
    {
      "cell_type": "markdown",
      "source": [
        "**PREVISÃO RECEITA BLOG**"
      ],
      "metadata": {
        "id": "0CZQHrPOzerP"
      }
    },
    {
      "cell_type": "code",
      "source": [
        "resultado_adf_blog = adfuller(df_receita_blog['receita_blog'])# Aplicando o teste ADF\n",
        "\n",
        "# Extraindo os resultados\n",
        "estatistica_teste_blog = resultado_adf_blog[0]\n",
        "valor_p_blog = resultado_adf_blog[1]\n",
        "valores_criticos_blog = resultado_adf_blog[4]\n",
        "\n",
        "print('Estatística do teste ADF:', estatistica_teste_blog)\n",
        "print('Valor-p:', valor_p_blog)\n",
        "print('Valores críticos:')\n",
        "for chave, valor in valores_criticos_blog.items():\n",
        "    print('\\t', chave, ':', valor)"
      ],
      "metadata": {
        "colab": {
          "base_uri": "https://localhost:8080/"
        },
        "id": "qlkFa4Rlya7A",
        "outputId": "3729acfb-0563-4f86-e31b-ad94c1b09be6"
      },
      "execution_count": 140,
      "outputs": [
        {
          "output_type": "stream",
          "name": "stdout",
          "text": [
            "Estatística do teste ADF: -5.912604664801903\n",
            "Valor-p: 2.617356536075473e-07\n",
            "Valores críticos:\n",
            "\t 1% : -3.4912451337340342\n",
            "\t 5% : -2.8881954545454547\n",
            "\t 10% : -2.5809876033057852\n"
          ]
        }
      ]
    },
    {
      "cell_type": "code",
      "source": [],
      "metadata": {
        "id": "ZnINfa2E9WNv"
      },
      "execution_count": 140,
      "outputs": []
    },
    {
      "cell_type": "code",
      "source": [
        "# Verificando se a série é estacionária ou não\n",
        "if valor_p_blog < 0.05:\n",
        "    print('A série é estacionária')\n",
        "else:\n",
        "    print('A série não é estacionária')"
      ],
      "metadata": {
        "colab": {
          "base_uri": "https://localhost:8080/"
        },
        "id": "_RwpcLRgz333",
        "outputId": "2bb55205-7a45-4538-bbf9-7a6e95dc80cf"
      },
      "execution_count": 141,
      "outputs": [
        {
          "output_type": "stream",
          "name": "stdout",
          "text": [
            "A série é estacionária\n"
          ]
        }
      ]
    },
    {
      "cell_type": "code",
      "source": [
        "df_receita_blog['receita_blog'] = pd.to_numeric(df_receita_blog['receita_blog'])# Convertendo a coluna 'receita' para tipo numérico"
      ],
      "metadata": {
        "id": "eXi_lgPnz-y7"
      },
      "execution_count": 142,
      "outputs": []
    },
    {
      "cell_type": "code",
      "source": [
        "plot_acf(df_receita_blog['receita_blog'], lags=40)\n",
        "plt.show()"
      ],
      "metadata": {
        "colab": {
          "base_uri": "https://localhost:8080/",
          "height": 452
        },
        "id": "twoZSJgF0JnP",
        "outputId": "67424e40-2057-430a-e621-845cf8e4cd56"
      },
      "execution_count": 143,
      "outputs": [
        {
          "output_type": "display_data",
          "data": {
            "text/plain": [
              "<Figure size 640x480 with 1 Axes>"
            ],
            "image/png": "[encoded data removed]"
          },
          "metadata": {}
        }
      ]
    },
    {
      "cell_type": "code",
      "source": [
        "plot_pacf(df_receita_blog['receita_blog'], lags=40)\n",
        "plt.show()"
      ],
      "metadata": {
        "colab": {
          "base_uri": "https://localhost:8080/",
          "height": 452
        },
        "id": "bvHyTFZL0K_F",
        "outputId": "8f5e3e0d-f575-42a1-f0de-f85ba32e1d44"
      },
      "execution_count": 144,
      "outputs": [
        {
          "output_type": "display_data",
          "data": {
            "text/plain": [
              "<Figure size 640x480 with 1 Axes>"
            ],
            "image/png": "[encoded data removed]"
          },
          "metadata": {}
        }
      ]
    },
    {
      "cell_type": "code",
      "source": [
        "from statsmodels.tsa.arima.model import ARIMA\n",
        "# Ajustando modelo ARIMA com os dados de treinamento\n",
        "modelo_blog = ARIMA(df_receita_blog['receita_blog'], order=(1, 1, 1))\n",
        "modelo_treinado_blog = modelo_blog.fit()\n",
        "\n",
        "# Previsão dos próximos 6 meses a partir de junho\n",
        "ultima_data_blog = pd.to_datetime(df_receita_blog['data'].max())\n",
        "data_inicial = ultima_data_blog + pd.DateOffset(months=1)\n",
        "indices_blog = pd.date_range(start=data_inicial, periods=6, freq='MS')\n",
        "previsao_blog = modelo_treinado_blog.get_forecast(steps=6)"
      ],
      "metadata": {
        "id": "zTrzVptW6CZ3"
      },
      "execution_count": 145,
      "outputs": []
    },
    {
      "cell_type": "code",
      "source": [
        "# Valores previstos e os intervalos de confiança\n",
        "valores_previstos_blog = previsao_blog.predicted_mean\n",
        "intervalo_inferior_blog = previsao_blog.conf_int()['lower receita_blog']\n",
        "intervalo_superior_blog = previsao_blog.conf_int()['upper receita_blog']"
      ],
      "metadata": {
        "id": "wZBNTzdm6MrL"
      },
      "execution_count": 146,
      "outputs": []
    },
    {
      "cell_type": "code",
      "source": [
        "# Criando um DataFrame com os resultados da previsão\n",
        "df_previsao_receita_blog = pd.DataFrame({\n",
        "    'Data': indices_blog,\n",
        "    'Receita Prevista blog': valores_previstos_blog,\n",
        "    'Intervalo Inferior blog': intervalo_inferior_blog,\n",
        "    'Intervalo Superior blog': intervalo_superior_blog\n",
        "})\n",
        "\n",
        "\n",
        "df_previsao_receita_blog"
      ],
      "metadata": {
        "colab": {
          "base_uri": "https://localhost:8080/",
          "height": 238
        },
        "id": "yR1oh5Ok6Til",
        "outputId": "c950fba3-e262-42ed-f854-0fa3aa48c109"
      },
      "execution_count": 147,
      "outputs": [
        {
          "output_type": "execute_result",
          "data": {
            "text/plain": [
              "          Data  Receita Prevista blog  Intervalo Inferior blog  \\\n",
              "113 2020-11-01           1.945817e+06             1.261701e+06   \n",
              "114 2020-12-01           1.931577e+06             9.331984e+05   \n",
              "115 2021-01-01           1.935554e+06             7.074769e+05   \n",
              "116 2021-02-01           1.934443e+06             5.116302e+05   \n",
              "117 2021-03-01           1.934754e+06             3.412430e+05   \n",
              "118 2021-04-01           1.934667e+06             1.869456e+05   \n",
              "\n",
              "     Intervalo Superior blog  \n",
              "113             2.629934e+06  \n",
              "114             2.929956e+06  \n",
              "115             3.163631e+06  \n",
              "116             3.357257e+06  \n",
              "117             3.528264e+06  \n",
              "118             3.682388e+06  "
            ],
            "text/html": [
              "\n",
              "  <div id=\"df-7129beb2-b77e-421b-ba0e-f81530588b46\" class=\"colab-df-container\">\n",
              "    <div>\n",
              "<style scoped>\n",
              "    .dataframe tbody tr th:only-of-type {\n",
              "        vertical-align: middle;\n",
              "    }\n",
              "\n",
              "    .dataframe tbody tr th {\n",
              "        vertical-align: top;\n",
              "    }\n",
              "\n",
              "    .dataframe thead th {\n",
              "        text-align: right;\n",
              "    }\n",
              "</style>\n",
              "<table border=\"1\" class=\"dataframe\">\n",
              "  <thead>\n",
              "    <tr style=\"text-align: right;\">\n",
              "      <th></th>\n",
              "      <th>Data</th>\n",
              "      <th>Receita Prevista blog</th>\n",
              "      <th>Intervalo Inferior blog</th>\n",
              "      <th>Intervalo Superior blog</th>\n",
              "    </tr>\n",
              "  </thead>\n",
              "  <tbody>\n",
              "    <tr>\n",
              "      <th>113</th>\n",
              "      <td>2020-11-01</td>\n",
              "      <td>1.945817e+06</td>\n",
              "      <td>1.261701e+06</td>\n",
              "      <td>2.629934e+06</td>\n",
              "    </tr>\n",
              "    <tr>\n",
              "      <th>114</th>\n",
              "      <td>2020-12-01</td>\n",
              "      <td>1.931577e+06</td>\n",
              "      <td>9.331984e+05</td>\n",
              "      <td>2.929956e+06</td>\n",
              "    </tr>\n",
              "    <tr>\n",
              "      <th>115</th>\n",
              "      <td>2021-01-01</td>\n",
              "      <td>1.935554e+06</td>\n",
              "      <td>7.074769e+05</td>\n",
              "      <td>3.163631e+06</td>\n",
              "    </tr>\n",
              "    <tr>\n",
              "      <th>116</th>\n",
              "      <td>2021-02-01</td>\n",
              "      <td>1.934443e+06</td>\n",
              "      <td>5.116302e+05</td>\n",
              "      <td>3.357257e+06</td>\n",
              "    </tr>\n",
              "    <tr>\n",
              "      <th>117</th>\n",
              "      <td>2021-03-01</td>\n",
              "      <td>1.934754e+06</td>\n",
              "      <td>3.412430e+05</td>\n",
              "      <td>3.528264e+06</td>\n",
              "    </tr>\n",
              "    <tr>\n",
              "      <th>118</th>\n",
              "      <td>2021-04-01</td>\n",
              "      <td>1.934667e+06</td>\n",
              "      <td>1.869456e+05</td>\n",
              "      <td>3.682388e+06</td>\n",
              "    </tr>\n",
              "  </tbody>\n",
              "</table>\n",
              "</div>\n",
              "    <div class=\"colab-df-buttons\">\n",
              "\n",
              "  <div class=\"colab-df-container\">\n",
              "    <button class=\"colab-df-convert\" onclick=\"convertToInteractive('df-7129beb2-b77e-421b-ba0e-f81530588b46')\"\n",
              "            title=\"Convert this dataframe to an interactive table.\"\n",
              "            style=\"display:none;\">\n",
              "\n",
              "  <svg xmlns=\"http://www.w3.org/2000/svg\" height=\"24px\" viewBox=\"0 -960 960 960\">\n",
              "    <path d=\"M120-120v-720h720v720H120Zm60-500h600v-160H180v160Zm220 220h160v-160H400v160Zm0 220h160v-160H400v160ZM180-400h160v-160H180v160Zm440 0h160v-160H620v160ZM180-180h160v-160H180v160Zm440 0h160v-160H620v160Z\"/>\n",
              "  </svg>\n",
              "    </button>\n",
              "\n",
              "  <style>\n",
              "    .colab-df-container {\n",
              "      display:flex;\n",
              "      gap: 12px;\n",
              "    }\n",
              "\n",
              "    .colab-df-convert {\n",
              "      background-color: #E8F0FE;\n",
              "      border: none;\n",
              "      border-radius: 50%;\n",
              "      cursor: pointer;\n",
              "      display: none;\n",
              "      fill: #1967D2;\n",
              "      height: 32px;\n",
              "      padding: 0 0 0 0;\n",
              "      width: 32px;\n",
              "    }\n",
              "\n",
              "    .colab-df-convert:hover {\n",
              "      background-color: #E2EBFA;\n",
              "      box-shadow: 0px 1px 2px rgba(60, 64, 67, 0.3), 0px 1px 3px 1px rgba(60, 64, 67, 0.15);\n",
              "      fill: #174EA6;\n",
              "    }\n",
              "\n",
              "    .colab-df-buttons div {\n",
              "      margin-bottom: 4px;\n",
              "    }\n",
              "\n",
              "    [theme=dark] .colab-df-convert {\n",
              "      background-color: #3B4455;\n",
              "      fill: #D2E3FC;\n",
              "    }\n",
              "\n",
              "    [theme=dark] .colab-df-convert:hover {\n",
              "      background-color: #434B5C;\n",
              "      box-shadow: 0px 1px 3px 1px rgba(0, 0, 0, 0.15);\n",
              "      filter: drop-shadow(0px 1px 2px rgba(0, 0, 0, 0.3));\n",
              "      fill: #FFFFFF;\n",
              "    }\n",
              "  </style>\n",
              "\n",
              "    <script>\n",
              "      const buttonEl =\n",
              "        document.querySelector('#df-7129beb2-b77e-421b-ba0e-f81530588b46 button.colab-df-convert');\n",
              "      buttonEl.style.display =\n",
              "        google.colab.kernel.accessAllowed ? 'block' : 'none';\n",
              "\n",
              "      async function convertToInteractive(key) {\n",
              "        const element = document.querySelector('#df-7129beb2-b77e-421b-ba0e-f81530588b46');\n",
              "        const dataTable =\n",
              "          await google.colab.kernel.invokeFunction('convertToInteractive',\n",
              "                                                    [key], {});\n",
              "        if (!dataTable) return;\n",
              "\n",
              "        const docLinkHtml = 'Like what you see? Visit the ' +\n",
              "          '<a target=\"_blank\" href=https://colab.research.google.com/notebooks/data_table.ipynb>data table notebook</a>'\n",
              "          + ' to learn more about interactive tables.';\n",
              "        element.innerHTML = '';\n",
              "        dataTable['output_type'] = 'display_data';\n",
              "        await google.colab.output.renderOutput(dataTable, element);\n",
              "        const docLink = document.createElement('div');\n",
              "        docLink.innerHTML = docLinkHtml;\n",
              "        element.appendChild(docLink);\n",
              "      }\n",
              "    </script>\n",
              "  </div>\n",
              "\n",
              "\n",
              "<div id=\"df-86693788-b9d7-40b6-8e57-9e56b7dbec0c\">\n",
              "  <button class=\"colab-df-quickchart\" onclick=\"quickchart('df-86693788-b9d7-40b6-8e57-9e56b7dbec0c')\"\n",
              "            title=\"Suggest charts.\"\n",
              "            style=\"display:none;\">\n",
              "\n",
              "<svg xmlns=\"http://www.w3.org/2000/svg\" height=\"24px\"viewBox=\"0 0 24 24\"\n",
              "     width=\"24px\">\n",
              "    <g>\n",
              "        <path d=\"M19 3H5c-1.1 0-2 .9-2 2v14c0 1.1.9 2 2 2h14c1.1 0 2-.9 2-2V5c0-1.1-.9-2-2-2zM9 17H7v-7h2v7zm4 0h-2V7h2v10zm4 0h-2v-4h2v4z\"/>\n",
              "    </g>\n",
              "</svg>\n",
              "  </button>\n",
              "\n",
              "<style>\n",
              "  .colab-df-quickchart {\n",
              "      --bg-color: #E8F0FE;\n",
              "      --fill-color: #1967D2;\n",
              "      --hover-bg-color: #E2EBFA;\n",
              "      --hover-fill-color: #174EA6;\n",
              "      --disabled-fill-color: #AAA;\n",
              "      --disabled-bg-color: #DDD;\n",
              "  }\n",
              "\n",
              "  [theme=dark] .colab-df-quickchart {\n",
              "      --bg-color: #3B4455;\n",
              "      --fill-color: #D2E3FC;\n",
              "      --hover-bg-color: #434B5C;\n",
              "      --hover-fill-color: #FFFFFF;\n",
              "      --disabled-bg-color: #3B4455;\n",
              "      --disabled-fill-color: #666;\n",
              "  }\n",
              "\n",
              "  .colab-df-quickchart {\n",
              "    background-color: var(--bg-color);\n",
              "    border: none;\n",
              "    border-radius: 50%;\n",
              "    cursor: pointer;\n",
              "    display: none;\n",
              "    fill: var(--fill-color);\n",
              "    height: 32px;\n",
              "    padding: 0;\n",
              "    width: 32px;\n",
              "  }\n",
              "\n",
              "  .colab-df-quickchart:hover {\n",
              "    background-color: var(--hover-bg-color);\n",
              "    box-shadow: 0 1px 2px rgba(60, 64, 67, 0.3), 0 1px 3px 1px rgba(60, 64, 67, 0.15);\n",
              "    fill: var(--button-hover-fill-color);\n",
              "  }\n",
              "\n",
              "  .colab-df-quickchart-complete:disabled,\n",
              "  .colab-df-quickchart-complete:disabled:hover {\n",
              "    background-color: var(--disabled-bg-color);\n",
              "    fill: var(--disabled-fill-color);\n",
              "    box-shadow: none;\n",
              "  }\n",
              "\n",
              "  .colab-df-spinner {\n",
              "    border: 2px solid var(--fill-color);\n",
              "    border-color: transparent;\n",
              "    border-bottom-color: var(--fill-color);\n",
              "    animation:\n",
              "      spin 1s steps(1) infinite;\n",
              "  }\n",
              "\n",
              "  @keyframes spin {\n",
              "    0% {\n",
              "      border-color: transparent;\n",
              "      border-bottom-color: var(--fill-color);\n",
              "      border-left-color: var(--fill-color);\n",
              "    }\n",
              "    20% {\n",
              "      border-color: transparent;\n",
              "      border-left-color: var(--fill-color);\n",
              "      border-top-color: var(--fill-color);\n",
              "    }\n",
              "    30% {\n",
              "      border-color: transparent;\n",
              "      border-left-color: var(--fill-color);\n",
              "      border-top-color: var(--fill-color);\n",
              "      border-right-color: var(--fill-color);\n",
              "    }\n",
              "    40% {\n",
              "      border-color: transparent;\n",
              "      border-right-color: var(--fill-color);\n",
              "      border-top-color: var(--fill-color);\n",
              "    }\n",
              "    60% {\n",
              "      border-color: transparent;\n",
              "      border-right-color: var(--fill-color);\n",
              "    }\n",
              "    80% {\n",
              "      border-color: transparent;\n",
              "      border-right-color: var(--fill-color);\n",
              "      border-bottom-color: var(--fill-color);\n",
              "    }\n",
              "    90% {\n",
              "      border-color: transparent;\n",
              "      border-bottom-color: var(--fill-color);\n",
              "    }\n",
              "  }\n",
              "</style>\n",
              "\n",
              "  <script>\n",
              "    async function quickchart(key) {\n",
              "      const quickchartButtonEl =\n",
              "        document.querySelector('#' + key + ' button');\n",
              "      quickchartButtonEl.disabled = true;  // To prevent multiple clicks.\n",
              "      quickchartButtonEl.classList.add('colab-df-spinner');\n",
              "      try {\n",
              "        const charts = await google.colab.kernel.invokeFunction(\n",
              "            'suggestCharts', [key], {});\n",
              "      } catch (error) {\n",
              "        console.error('Error during call to suggestCharts:', error);\n",
              "      }\n",
              "      quickchartButtonEl.classList.remove('colab-df-spinner');\n",
              "      quickchartButtonEl.classList.add('colab-df-quickchart-complete');\n",
              "    }\n",
              "    (() => {\n",
              "      let quickchartButtonEl =\n",
              "        document.querySelector('#df-86693788-b9d7-40b6-8e57-9e56b7dbec0c button');\n",
              "      quickchartButtonEl.style.display =\n",
              "        google.colab.kernel.accessAllowed ? 'block' : 'none';\n",
              "    })();\n",
              "  </script>\n",
              "</div>\n",
              "    </div>\n",
              "  </div>\n"
            ]
          },
          "metadata": {},
          "execution_count": 147
        }
      ]
    },
    {
      "cell_type": "code",
      "source": [
        "df_receita_blog['receita_blog'].mean()"
      ],
      "metadata": {
        "colab": {
          "base_uri": "https://localhost:8080/"
        },
        "id": "mikywd7AI6wA",
        "outputId": "f02b8357-7110-424c-9653-8997a88ad511"
      },
      "execution_count": 151,
      "outputs": [
        {
          "output_type": "execute_result",
          "data": {
            "text/plain": [
              "1329909.9957252168"
            ]
          },
          "metadata": {},
          "execution_count": 151
        }
      ]
    },
    {
      "cell_type": "code",
      "source": [
        "df_previsao_receita_blog['Receita Prevista blog'].mean()"
      ],
      "metadata": {
        "colab": {
          "base_uri": "https://localhost:8080/"
        },
        "id": "64d9nUEWJFxf",
        "outputId": "9c143d71-c248-497a-8127-245e477161fe"
      },
      "execution_count": 153,
      "outputs": [
        {
          "output_type": "execute_result",
          "data": {
            "text/plain": [
              "1936135.4639244229"
            ]
          },
          "metadata": {},
          "execution_count": 153
        }
      ]
    },
    {
      "cell_type": "code",
      "source": [
        "media_receita_blog = 1329909.9957252168\n",
        "\n",
        "# Média da receita prevista\n",
        "media_receita_prevista = 1936135.4639244229\n",
        "\n",
        "# Calcular o percentual de crescimento\n",
        "percentual_crescimento = ((media_receita_prevista - media_receita_blog) / media_receita_blog) * 100\n",
        "\n",
        "# Exibir o resultado\n",
        "print(f\"Percentual de Crescimento da Receita: {percentual_crescimento:.2f}%\")"
      ],
      "metadata": {
        "colab": {
          "base_uri": "https://localhost:8080/"
        },
        "id": "aiIwJBWsJ7Ib",
        "outputId": "32e7fb70-12ef-429b-9580-70a92ce01ada"
      },
      "execution_count": 170,
      "outputs": [
        {
          "output_type": "stream",
          "name": "stdout",
          "text": [
            "Percentual de Crescimento da Receita: 45.58%\n"
          ]
        }
      ]
    },
    {
      "cell_type": "code",
      "source": [
        "df_previsao_receita_blog['Data'] = pd.to_datetime(df_previsao_receita_blog['Data'])"
      ],
      "metadata": {
        "id": "cQ7AfAaH8TUr"
      },
      "execution_count": 157,
      "outputs": []
    },
    {
      "cell_type": "code",
      "source": [
        "fig, ax = plt.subplots(figsize=(10, 8))\n",
        "\n",
        "plt.plot(df_receita_blog['data'], df_receita_blog['receita_blog'], label='Dados Observados')\n",
        "df_previsao_receita_blog['Data'] = pd.to_datetime(df_previsao_receita_blog['Data'])\n",
        "plt.plot(df_previsao_receita_blog['Data'].astype(str), df_previsao_receita_blog['Receita Prevista blog'], label='Receita Prevista blog')\n",
        "plt.fill_between(df_previsao_receita_blog['Data'].astype(str), df_previsao_receita_blog['Intervalo Inferior blog'], df_previsao_receita_blog['Intervalo Superior blog'],\n",
        "                 color='gray', alpha=0.3, label='Intervalo de Confiança')\n",
        "plt.xlabel('Data')\n",
        "plt.ylabel('Receita')\n",
        "plt.title('Previsão da Receita para os Próximos 6 Meses')\n",
        "plt.legend()\n",
        "\n",
        "# Obtendo os índices dos meses\n",
        "meses = df_previsao_receita_blog['Data'].dt.month\n",
        "\n",
        "# Definindo os ticks e labels dos meses\n",
        "plt.gca().set_xticks(range(len(meses)))\n",
        "plt.gca().set_xticklabels(meses)\n",
        "\n",
        "plt.show()"
      ],
      "metadata": {
        "colab": {
          "base_uri": "https://localhost:8080/",
          "height": 719
        },
        "id": "BDIs-EIY8tD2",
        "outputId": "8fad7feb-128b-4e8b-d9ab-d8946b1f5f2a"
      },
      "execution_count": 173,
      "outputs": [
        {
          "output_type": "display_data",
          "data": {
            "text/plain": [
              "<Figure size 1000x800 with 1 Axes>"
            ],
            "image/png": "[encoded data removed]"
          },
          "metadata": {}
        }
      ]
    }
  ]
}